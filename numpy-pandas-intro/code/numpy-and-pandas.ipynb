{
 "cells": [
  {
   "cell_type": "markdown",
   "metadata": {
    "focus": false,
    "id": "e2d2e96d-e50e-4d2b-9ca2-b748fec717d5",
    "slideshow": {
     "slide_type": "slide"
    }
   },
   "source": [
    "# Agenda\n",
    "* Numpy\n",
    "* Pandas\n",
    "* And SUPER quick so you can play"
   ]
  },
  {
   "cell_type": "markdown",
   "metadata": {
    "focus": false,
    "id": "b4120c3a-6f30-49ba-ab8f-a86e3aa3adbd",
    "slideshow": {
     "slide_type": "subslide"
    }
   },
   "source": [
    "# Introduction\n"
   ]
  },
  {
   "cell_type": "markdown",
   "metadata": {
    "focus": false,
    "id": "485a2c1b-c45a-40da-a088-d164ede434c3",
    "slideshow": {
     "slide_type": "slide"
    }
   },
   "source": [
    "## Create a new notebook for your code-along:\n",
    "\n",
    "From our submission directory, type:\n",
    "    \n",
    "    jupyter notebook\n",
    "\n",
    "From the IPython Dashboard, open a new notebook.\n",
    "Change the title to: \"Numpy and Pandas\""
   ]
  },
  {
   "cell_type": "markdown",
   "metadata": {
    "focus": false,
    "id": "2bd62dd0-8f25-4203-8faf-9ec99b96aef2",
    "slideshow": {
     "slide_type": "slide"
    }
   },
   "source": [
    "# Introduction to Numpy\n",
    "\n",
    "* Overview\n",
    "* ndarray\n",
    "* Indexing and Slicing\n",
    "\n",
    "More info: [http://wiki.scipy.org/Tentative_NumPy_Tutorial](http://wiki.scipy.org/Tentative_NumPy_Tutorial)\n"
   ]
  },
  {
   "cell_type": "markdown",
   "metadata": {
    "focus": false,
    "id": "7db20dcb-cef2-4ae9-b44a-7b04744f74cf",
    "slideshow": {
     "slide_type": "subslide"
    }
   },
   "source": [
    "## Numpy Overview\n",
    "\n",
    "* Why Python for Data? Numpy brings *decades* of C math into Python!\n",
    "* Numpy provides a wrapper for extensive C/C++/Fortran codebases, used for data analysis functionality\n",
    "* NDAarray allows easy vectorized math and broadcasting (i.e. functions for vector elements of different shapes)"
   ]
  },
  {
   "cell_type": "code",
   "execution_count": 4,
   "metadata": {
    "collapsed": true,
    "focus": false,
    "id": "247250c7-2583-41fa-9198-6198b83fd243",
    "slideshow": {
     "slide_type": "subslide"
    }
   },
   "outputs": [],
   "source": [
    "%matplotlib inline\n",
    "\n",
    "import numpy as np\n",
    "import os"
   ]
  },
  {
   "cell_type": "markdown",
   "metadata": {
    "focus": false,
    "id": "7b1b97a1-ccb0-44a9-a0f8-12dcc590bc66",
    "slideshow": {
     "slide_type": "subslide"
    }
   },
   "source": [
    "### Creating ndarrays"
   ]
  },
  {
   "cell_type": "markdown",
   "metadata": {
    "focus": false,
    "id": "d6f83896-c0f2-4185-a528-481262fe2d91",
    "slideshow": {
     "slide_type": "fragment"
    }
   },
   "source": [
    "An array object represents a multidimensional, homogeneous array of fixed-size items. "
   ]
  },
  {
   "cell_type": "code",
   "execution_count": 6,
   "metadata": {
    "focus": false,
    "id": "54f9011d-2143-4bb7-81fc-e3216ac4c866",
    "slideshow": {
     "slide_type": "subslide"
    }
   },
   "outputs": [],
   "source": [
    "# Creating arrays\n",
    "a = np.zeros(3)\n",
    "b = np.ones((2,3))\n",
    "c = np.random.randint(1,10,[2,3,4])\n",
    "d = np.arange(0,11,1)\n",
    "e = np.zeros_like(b)"
   ]
  },
  {
   "cell_type": "markdown",
   "metadata": {
    "focus": false,
    "id": "668f00fe-00c6-4866-87a7-9293497f3a15",
    "slideshow": {
     "slide_type": "fragment"
    }
   },
   "source": [
    "What are these functions?\n",
    "\n",
    "    arange?\n",
    "    zeros_like?"
   ]
  },
  {
   "cell_type": "code",
   "execution_count": 7,
   "metadata": {
    "focus": false,
    "id": "a84a1773-b477-421f-9f17-e26eb326b408",
    "slideshow": {
     "slide_type": "fragment"
    }
   },
   "outputs": [
    {
     "name": "stdout",
     "output_type": "stream",
     "text": [
      "\n",
      "a\n",
      "[ 0.  0.  0.]\n",
      "\n",
      "b\n",
      "[[ 1.  1.  1.]\n",
      " [ 1.  1.  1.]]\n",
      "\n",
      "c\n",
      "[[[1 7 1 9]\n",
      "  [1 4 1 2]\n",
      "  [2 3 4 9]]\n",
      "\n",
      " [[3 3 3 5]\n",
      "  [1 9 5 3]\n",
      "  [9 8 4 4]]]\n",
      "\n",
      "d\n",
      "[ 0  1  2  3  4  5  6  7  8  9 10]\n",
      "\n",
      "e\n",
      "[[ 0.  0.  0.]\n",
      " [ 0.  0.  0.]]\n"
     ]
    }
   ],
   "source": [
    "# Note the way each array is printed:\n",
    "array_data = [a, b, c, d, e]\n",
    "array_name = ['a', 'b', 'c', 'd', 'e']\n",
    "\n",
    "for arr in zip(array_data, array_name):\n",
    "    print('\\n{}\\n{}'.format(arr[1], arr[0]))"
   ]
  },
  {
   "cell_type": "code",
   "execution_count": 17,
   "metadata": {
    "collapsed": true,
    "focus": false,
    "id": "67c9acc2-c9a7-4636-acca-038bd99def6d",
    "slideshow": {
     "slide_type": "subslide"
    }
   },
   "outputs": [],
   "source": [
    "## Arithmetic in arrays is element wise"
   ]
  },
  {
   "cell_type": "code",
   "execution_count": 8,
   "metadata": {
    "focus": false,
    "id": "34461526-ff37-4e7d-8ff9-2f6887c10a1a",
    "slideshow": {
     "slide_type": "fragment"
    }
   },
   "outputs": [
    {
     "data": {
      "text/plain": [
       "array([0, 1, 2, 3])"
      ]
     },
     "execution_count": 8,
     "metadata": {},
     "output_type": "execute_result"
    }
   ],
   "source": [
    "a = np.array( [20,30,40,50] )\n",
    "b = np.arange( 4 )\n",
    "b"
   ]
  },
  {
   "cell_type": "code",
   "execution_count": 9,
   "metadata": {
    "focus": false,
    "id": "9b21c965-2734-4f09-aae0-4d344b93e681",
    "slideshow": {
     "slide_type": "fragment"
    }
   },
   "outputs": [
    {
     "data": {
      "text/plain": [
       "array([20, 29, 38, 47])"
      ]
     },
     "execution_count": 9,
     "metadata": {},
     "output_type": "execute_result"
    }
   ],
   "source": [
    "c = a-b\n",
    "c"
   ]
  },
  {
   "cell_type": "code",
   "execution_count": 12,
   "metadata": {
    "focus": false,
    "id": "03828206-43b2-445f-b54d-7ebaca5585f5",
    "slideshow": {
     "slide_type": "fragment"
    }
   },
   "outputs": [
    {
     "data": {
      "text/plain": [
       "array([0, 1, 4, 9])"
      ]
     },
     "execution_count": 12,
     "metadata": {},
     "output_type": "execute_result"
    }
   ],
   "source": [
    "b**2"
   ]
  },
  {
   "cell_type": "code",
   "execution_count": null,
   "metadata": {
    "collapsed": true
   },
   "outputs": [],
   "source": []
  },
  {
   "cell_type": "markdown",
   "metadata": {
    "focus": false,
    "id": "e4c29549-9a0a-420c-9f86-99a798daa288",
    "slideshow": {
     "slide_type": "subslide"
    }
   },
   "source": [
    "## Indexing, Slicing and Iterating"
   ]
  },
  {
   "cell_type": "code",
   "execution_count": 13,
   "metadata": {
    "collapsed": true,
    "focus": false,
    "id": "100e8b85-16f4-43e0-9c47-67c60e1f81ed",
    "slideshow": {
     "slide_type": "fragment"
    }
   },
   "outputs": [],
   "source": [
    "# one-dimensional arrays work like lists:\n",
    "a = np.arange(10)**2"
   ]
  },
  {
   "cell_type": "code",
   "execution_count": 22,
   "metadata": {
    "focus": false,
    "id": "26090d07-f5d6-4baa-aacc-979982af6f14",
    "slideshow": {
     "slide_type": "fragment"
    }
   },
   "outputs": [
    {
     "data": {
      "text/plain": [
       "array([ 0,  1,  4,  9, 16, 25, 36, 49, 64, 81])"
      ]
     },
     "execution_count": 22,
     "metadata": {},
     "output_type": "execute_result"
    }
   ],
   "source": [
    "a"
   ]
  },
  {
   "cell_type": "code",
   "execution_count": 23,
   "metadata": {
    "focus": false,
    "id": "8d56b369-acfc-4e82-b325-c1aba3ee35cd",
    "slideshow": {
     "slide_type": "fragment"
    }
   },
   "outputs": [
    {
     "data": {
      "text/plain": [
       "array([ 4,  9, 16])"
      ]
     },
     "execution_count": 23,
     "metadata": {},
     "output_type": "execute_result"
    }
   ],
   "source": [
    "a[2:5]"
   ]
  },
  {
   "cell_type": "code",
   "execution_count": 24,
   "metadata": {
    "collapsed": true,
    "focus": false,
    "id": "7dbe0ac8-d44b-4698-82c6-537afff33cea",
    "slideshow": {
     "slide_type": "subslide"
    }
   },
   "outputs": [],
   "source": [
    "# Multidimensional arrays use square brackets []  with commas for indexing\n",
    "# with (row,column) conventions beginning, as always in Python, from 0"
   ]
  },
  {
   "cell_type": "code",
   "execution_count": 15,
   "metadata": {
    "focus": false,
    "id": "27ba2fb0-9c69-438f-9136-da9c2204b100",
    "slideshow": {
     "slide_type": "fragment"
    }
   },
   "outputs": [
    {
     "data": {
      "text/plain": [
       "array([[23, 28, 38, 42],\n",
       "       [75, 74, 62, 96],\n",
       "       [85, 54,  1, 16],\n",
       "       [95, 54,  9, 80]])"
      ]
     },
     "execution_count": 15,
     "metadata": {},
     "output_type": "execute_result"
    }
   ],
   "source": [
    "b = np.random.randint(1,100,[4,4])\n",
    "b"
   ]
  },
  {
   "cell_type": "code",
   "execution_count": 21,
   "metadata": {
    "focus": false,
    "id": "58463e8a-312c-4ff9-970f-c8204d6dbc30",
    "slideshow": {
     "slide_type": "fragment"
    }
   },
   "outputs": [
    {
     "name": "stdout",
     "output_type": "stream",
     "text": [
      "16\n",
      "23\n"
     ]
    }
   ],
   "source": [
    "# Guess the output\n",
    "print(b[2,3])\n",
    "print(b[0,0])"
   ]
  },
  {
   "cell_type": "code",
   "execution_count": 22,
   "metadata": {},
   "outputs": [
    {
     "data": {
      "text/plain": [
       "array([[23, 28, 38, 42],\n",
       "       [75, 74, 62, 96],\n",
       "       [85, 54,  1, 16],\n",
       "       [95, 54,  9, 80]])"
      ]
     },
     "execution_count": 22,
     "metadata": {},
     "output_type": "execute_result"
    }
   ],
   "source": [
    "b"
   ]
  },
  {
   "cell_type": "code",
   "execution_count": 23,
   "metadata": {
    "focus": false,
    "id": "77b7d441-34a9-4d52-aab7-563e966702c9",
    "slideshow": {
     "slide_type": "fragment"
    }
   },
   "outputs": [
    {
     "data": {
      "text/plain": [
       "array([23, 28, 38, 42])"
      ]
     },
     "execution_count": 23,
     "metadata": {},
     "output_type": "execute_result"
    }
   ],
   "source": [
    "b[0,:]"
   ]
  },
  {
   "cell_type": "code",
   "execution_count": 24,
   "metadata": {
    "focus": false,
    "id": "9b24506c-d8e4-4f1b-8fdb-b9c835b980c9",
    "slideshow": {
     "slide_type": "fragment"
    }
   },
   "outputs": [
    {
     "data": {
      "text/plain": [
       "array([[75, 74, 62, 96],\n",
       "       [85, 54,  1, 16]])"
      ]
     },
     "execution_count": 24,
     "metadata": {},
     "output_type": "execute_result"
    }
   ],
   "source": [
    "b[1:3,:]"
   ]
  },
  {
   "cell_type": "markdown",
   "metadata": {
    "focus": false,
    "id": "39dee2d5-b969-40d1-9bcb-9061b29c317b",
    "slideshow": {
     "slide_type": "slide"
    }
   },
   "source": [
    "# Introduction to Pandas\n",
    "\n",
    "* Object Creation\n",
    "* Viewing data\n",
    "* Selection\n",
    "* Missing data\n",
    "* Grouping\n",
    "* Reshaping\n",
    "* Time series\n",
    "* Plotting\n",
    "* i/o\n",
    " \n",
    "\n",
    "_pandas.pydata.org_"
   ]
  },
  {
   "cell_type": "markdown",
   "metadata": {
    "focus": false,
    "id": "7306e5f4-bc93-4370-9156-7ad4bb0b3662",
    "slideshow": {
     "slide_type": "slide"
    }
   },
   "source": [
    "## Pandas Overview\n",
    "\n",
    "_Source: [pandas.pydata.org](http://pandas.pydata.org/pandas-docs/stable/10min.html)_"
   ]
  },
  {
   "cell_type": "code",
   "execution_count": 25,
   "metadata": {
    "collapsed": true,
    "focus": false,
    "id": "25de189f-b377-4fac-896f-757f71485109",
    "slideshow": {
     "slide_type": "subslide"
    }
   },
   "outputs": [],
   "source": [
    "import pandas as pd\n",
    "import numpy as np\n",
    "import matplotlib.pyplot as plt"
   ]
  },
  {
   "cell_type": "code",
   "execution_count": 26,
   "metadata": {
    "focus": false,
    "id": "c56e480d-bc62-4502-89ae-1b3c5f8f9c65",
    "slideshow": {
     "slide_type": "subslide"
    }
   },
   "outputs": [
    {
     "data": {
      "text/plain": [
       "DatetimeIndex(['2014-01-01', '2014-01-02', '2014-01-03', '2014-01-04',\n",
       "               '2014-01-05', '2014-01-06'],\n",
       "              dtype='datetime64[ns]', freq='D')"
      ]
     },
     "execution_count": 26,
     "metadata": {},
     "output_type": "execute_result"
    }
   ],
   "source": [
    "dates = pd.date_range('20140101',periods = 6)\n",
    "dates"
   ]
  },
  {
   "cell_type": "code",
   "execution_count": 27,
   "metadata": {
    "collapsed": true,
    "focus": false,
    "id": "c1eaf66c-b3b0-4286-b8cf-ac023341c523",
    "slideshow": {
     "slide_type": "subslide"
    }
   },
   "outputs": [],
   "source": [
    "df = pd.DataFrame(np.random.randn(6,4),index = dates, columns = ['A','B','C','D'])"
   ]
  },
  {
   "cell_type": "code",
   "execution_count": 28,
   "metadata": {
    "focus": false,
    "id": "8e7170fc-f502-45b0-b82a-bdac82dabf7e",
    "slideshow": {
     "slide_type": "subslide"
    }
   },
   "outputs": [
    {
     "data": {
      "text/html": [
       "<div>\n",
       "<style>\n",
       "    .dataframe thead tr:only-child th {\n",
       "        text-align: right;\n",
       "    }\n",
       "\n",
       "    .dataframe thead th {\n",
       "        text-align: left;\n",
       "    }\n",
       "\n",
       "    .dataframe tbody tr th {\n",
       "        vertical-align: top;\n",
       "    }\n",
       "</style>\n",
       "<table border=\"1\" class=\"dataframe\">\n",
       "  <thead>\n",
       "    <tr style=\"text-align: right;\">\n",
       "      <th></th>\n",
       "      <th>A</th>\n",
       "      <th>B</th>\n",
       "      <th>C</th>\n",
       "      <th>D</th>\n",
       "    </tr>\n",
       "  </thead>\n",
       "  <tbody>\n",
       "    <tr>\n",
       "      <th>2014-01-01</th>\n",
       "      <td>-0.817283</td>\n",
       "      <td>-0.418365</td>\n",
       "      <td>0.014888</td>\n",
       "      <td>-1.561872</td>\n",
       "    </tr>\n",
       "    <tr>\n",
       "      <th>2014-01-02</th>\n",
       "      <td>0.727926</td>\n",
       "      <td>-1.145034</td>\n",
       "      <td>-1.023579</td>\n",
       "      <td>-0.052420</td>\n",
       "    </tr>\n",
       "    <tr>\n",
       "      <th>2014-01-03</th>\n",
       "      <td>-0.897618</td>\n",
       "      <td>0.221578</td>\n",
       "      <td>-0.343496</td>\n",
       "      <td>-1.466176</td>\n",
       "    </tr>\n",
       "    <tr>\n",
       "      <th>2014-01-04</th>\n",
       "      <td>0.755831</td>\n",
       "      <td>-0.221405</td>\n",
       "      <td>1.402572</td>\n",
       "      <td>0.493049</td>\n",
       "    </tr>\n",
       "    <tr>\n",
       "      <th>2014-01-05</th>\n",
       "      <td>-2.123076</td>\n",
       "      <td>-1.331059</td>\n",
       "      <td>-0.535347</td>\n",
       "      <td>1.034847</td>\n",
       "    </tr>\n",
       "    <tr>\n",
       "      <th>2014-01-06</th>\n",
       "      <td>-0.863258</td>\n",
       "      <td>-0.667358</td>\n",
       "      <td>0.237292</td>\n",
       "      <td>2.358118</td>\n",
       "    </tr>\n",
       "  </tbody>\n",
       "</table>\n",
       "</div>"
      ],
      "text/plain": [
       "                   A         B         C         D\n",
       "2014-01-01 -0.817283 -0.418365  0.014888 -1.561872\n",
       "2014-01-02  0.727926 -1.145034 -1.023579 -0.052420\n",
       "2014-01-03 -0.897618  0.221578 -0.343496 -1.466176\n",
       "2014-01-04  0.755831 -0.221405  1.402572  0.493049\n",
       "2014-01-05 -2.123076 -1.331059 -0.535347  1.034847\n",
       "2014-01-06 -0.863258 -0.667358  0.237292  2.358118"
      ]
     },
     "execution_count": 28,
     "metadata": {},
     "output_type": "execute_result"
    }
   ],
   "source": [
    "# Index, columns, underlying numpy data\n",
    "df"
   ]
  },
  {
   "cell_type": "code",
   "execution_count": 32,
   "metadata": {},
   "outputs": [
    {
     "data": {
      "text/plain": [
       "2014-01-01   -0.817283\n",
       "2014-01-02    0.727926\n",
       "2014-01-03   -0.897618\n",
       "2014-01-04    0.755831\n",
       "2014-01-05   -2.123076\n",
       "2014-01-06   -0.863258\n",
       "Freq: D, Name: A, dtype: float64"
      ]
     },
     "execution_count": 32,
     "metadata": {},
     "output_type": "execute_result"
    }
   ],
   "source": [
    "df['A']"
   ]
  },
  {
   "cell_type": "code",
   "execution_count": 34,
   "metadata": {},
   "outputs": [
    {
     "data": {
      "text/plain": [
       "DatetimeIndex(['2014-01-04', '2014-01-05'], dtype='datetime64[ns]', freq='D')"
      ]
     },
     "execution_count": 34,
     "metadata": {},
     "output_type": "execute_result"
    }
   ],
   "source": [
    "#Access the index using df.index (can be sliced like an array...because it is.)\n",
    "df.index[3:5]"
   ]
  },
  {
   "cell_type": "code",
   "execution_count": 35,
   "metadata": {},
   "outputs": [
    {
     "data": {
      "text/plain": [
       "Index([u'A', u'B', u'C', u'D'], dtype='object')"
      ]
     },
     "execution_count": 35,
     "metadata": {},
     "output_type": "execute_result"
    }
   ],
   "source": [
    "#To get your columns take a guess...\n",
    "df.columns"
   ]
  },
  {
   "cell_type": "code",
   "execution_count": 36,
   "metadata": {},
   "outputs": [
    {
     "data": {
      "text/plain": [
       "Index([u'a', u'b', u'c', u'd'], dtype='object')"
      ]
     },
     "execution_count": 36,
     "metadata": {},
     "output_type": "execute_result"
    }
   ],
   "source": [
    "#Make the columns quicker to work with (change to lower case)\n",
    "df.columns = [column.lower() for column in df.columns]\n",
    "df.columns"
   ]
  },
  {
   "cell_type": "code",
   "execution_count": 37,
   "metadata": {},
   "outputs": [
    {
     "data": {
      "text/plain": [
       "Index([u'A', u'B', u'C', u'D'], dtype='object')"
      ]
     },
     "execution_count": 37,
     "metadata": {},
     "output_type": "execute_result"
    }
   ],
   "source": [
    "#Change the columns back to upper to not break the code below...\n",
    "df.columns = [column.upper() for column in df.columns]\n",
    "df.columns"
   ]
  },
  {
   "cell_type": "code",
   "execution_count": 39,
   "metadata": {},
   "outputs": [
    {
     "data": {
      "text/html": [
       "<div>\n",
       "<style>\n",
       "    .dataframe thead tr:only-child th {\n",
       "        text-align: right;\n",
       "    }\n",
       "\n",
       "    .dataframe thead th {\n",
       "        text-align: left;\n",
       "    }\n",
       "\n",
       "    .dataframe tbody tr th {\n",
       "        vertical-align: top;\n",
       "    }\n",
       "</style>\n",
       "<table border=\"1\" class=\"dataframe\">\n",
       "  <thead>\n",
       "    <tr style=\"text-align: right;\">\n",
       "      <th></th>\n",
       "      <th>2014-01-01 00:00:00</th>\n",
       "      <th>2014-01-02 00:00:00</th>\n",
       "      <th>2014-01-03 00:00:00</th>\n",
       "      <th>2014-01-04 00:00:00</th>\n",
       "      <th>2014-01-05 00:00:00</th>\n",
       "      <th>2014-01-06 00:00:00</th>\n",
       "    </tr>\n",
       "  </thead>\n",
       "  <tbody>\n",
       "    <tr>\n",
       "      <th>A</th>\n",
       "      <td>-0.817283</td>\n",
       "      <td>0.727926</td>\n",
       "      <td>-0.897618</td>\n",
       "      <td>0.755831</td>\n",
       "      <td>-2.123076</td>\n",
       "      <td>-0.863258</td>\n",
       "    </tr>\n",
       "    <tr>\n",
       "      <th>B</th>\n",
       "      <td>-0.418365</td>\n",
       "      <td>-1.145034</td>\n",
       "      <td>0.221578</td>\n",
       "      <td>-0.221405</td>\n",
       "      <td>-1.331059</td>\n",
       "      <td>-0.667358</td>\n",
       "    </tr>\n",
       "    <tr>\n",
       "      <th>C</th>\n",
       "      <td>0.014888</td>\n",
       "      <td>-1.023579</td>\n",
       "      <td>-0.343496</td>\n",
       "      <td>1.402572</td>\n",
       "      <td>-0.535347</td>\n",
       "      <td>0.237292</td>\n",
       "    </tr>\n",
       "    <tr>\n",
       "      <th>D</th>\n",
       "      <td>-1.561872</td>\n",
       "      <td>-0.052420</td>\n",
       "      <td>-1.466176</td>\n",
       "      <td>0.493049</td>\n",
       "      <td>1.034847</td>\n",
       "      <td>2.358118</td>\n",
       "    </tr>\n",
       "  </tbody>\n",
       "</table>\n",
       "</div>"
      ],
      "text/plain": [
       "   2014-01-01  2014-01-02  2014-01-03  2014-01-04  2014-01-05  2014-01-06\n",
       "A   -0.817283    0.727926   -0.897618    0.755831   -2.123076   -0.863258\n",
       "B   -0.418365   -1.145034    0.221578   -0.221405   -1.331059   -0.667358\n",
       "C    0.014888   -1.023579   -0.343496    1.402572   -0.535347    0.237292\n",
       "D   -1.561872   -0.052420   -1.466176    0.493049    1.034847    2.358118"
      ]
     },
     "execution_count": 39,
     "metadata": {},
     "output_type": "execute_result"
    }
   ],
   "source": [
    "df.T"
   ]
  },
  {
   "cell_type": "code",
   "execution_count": 40,
   "metadata": {
    "focus": false,
    "id": "0c3d9fa3-7522-4e18-8be5-74661547954f",
    "slideshow": {
     "slide_type": "subslide"
    }
   },
   "outputs": [
    {
     "data": {
      "text/html": [
       "<div>\n",
       "<style>\n",
       "    .dataframe thead tr:only-child th {\n",
       "        text-align: right;\n",
       "    }\n",
       "\n",
       "    .dataframe thead th {\n",
       "        text-align: left;\n",
       "    }\n",
       "\n",
       "    .dataframe tbody tr th {\n",
       "        vertical-align: top;\n",
       "    }\n",
       "</style>\n",
       "<table border=\"1\" class=\"dataframe\">\n",
       "  <thead>\n",
       "    <tr style=\"text-align: right;\">\n",
       "      <th></th>\n",
       "      <th>constant1s</th>\n",
       "      <th>constant3s</th>\n",
       "      <th>date</th>\n",
       "      <th>foo</th>\n",
       "      <th>name</th>\n",
       "      <th>rands</th>\n",
       "    </tr>\n",
       "  </thead>\n",
       "  <tbody>\n",
       "    <tr>\n",
       "      <th>Obs1</th>\n",
       "      <td>1.0</td>\n",
       "      <td>3</td>\n",
       "      <td>2013-01-02</td>\n",
       "      <td>foo</td>\n",
       "      <td>rex</td>\n",
       "      <td>-28</td>\n",
       "    </tr>\n",
       "    <tr>\n",
       "      <th>Obs2</th>\n",
       "      <td>1.0</td>\n",
       "      <td>3</td>\n",
       "      <td>2013-01-02</td>\n",
       "      <td>foo</td>\n",
       "      <td>hex</td>\n",
       "      <td>-46</td>\n",
       "    </tr>\n",
       "    <tr>\n",
       "      <th>Obs3</th>\n",
       "      <td>1.0</td>\n",
       "      <td>3</td>\n",
       "      <td>2013-01-02</td>\n",
       "      <td>foo</td>\n",
       "      <td>nex</td>\n",
       "      <td>96</td>\n",
       "    </tr>\n",
       "    <tr>\n",
       "      <th>Obs4</th>\n",
       "      <td>1.0</td>\n",
       "      <td>3</td>\n",
       "      <td>2013-01-02</td>\n",
       "      <td>foo</td>\n",
       "      <td>tex</td>\n",
       "      <td>50</td>\n",
       "    </tr>\n",
       "  </tbody>\n",
       "</table>\n",
       "</div>"
      ],
      "text/plain": [
       "      constant1s  constant3s       date  foo name  rands\n",
       "Obs1         1.0           3 2013-01-02  foo  rex    -28\n",
       "Obs2         1.0           3 2013-01-02  foo  hex    -46\n",
       "Obs3         1.0           3 2013-01-02  foo  nex     96\n",
       "Obs4         1.0           3 2013-01-02  foo  tex     50"
      ]
     },
     "execution_count": 40,
     "metadata": {},
     "output_type": "execute_result"
    }
   ],
   "source": [
    "df2 = pd.DataFrame({ 'constant1s' : 1.,\n",
    "                         'date' : pd.Timestamp('20130102'),\n",
    "                         'constant3s' : np.array([3] * 4,dtype='int32'),\n",
    "                         'foo' : 'foo', \n",
    "                         'rands' : np.random.randint(-100, 100, 4),\n",
    "                         'name': ['rex', 'hex','nex','tex']\n",
    "                   }, \n",
    "                   index = ['Obs1', 'Obs2', 'Obs3', 'Obs4'])\n",
    "\n",
    "df2"
   ]
  },
  {
   "cell_type": "code",
   "execution_count": 41,
   "metadata": {
    "focus": false,
    "id": "4c3d6e0a-6a4f-48dd-87c8-71d94577f429",
    "slideshow": {
     "slide_type": "subslide"
    }
   },
   "outputs": [
    {
     "data": {
      "text/plain": [
       "constant1s           float64\n",
       "constant3s             int32\n",
       "date          datetime64[ns]\n",
       "foo                   object\n",
       "name                  object\n",
       "rands                  int64\n",
       "dtype: object"
      ]
     },
     "execution_count": 41,
     "metadata": {},
     "output_type": "execute_result"
    }
   ],
   "source": [
    "# With specific dtypes\n",
    "df2.dtypes"
   ]
  },
  {
   "cell_type": "markdown",
   "metadata": {
    "focus": false,
    "id": "2792318e-6f4c-4ae8-a937-1964456f91f8",
    "slideshow": {
     "slide_type": "slide"
    }
   },
   "source": [
    "#### Viewing Data"
   ]
  },
  {
   "cell_type": "code",
   "execution_count": 42,
   "metadata": {
    "focus": false,
    "id": "dee84a01-9e14-4996-a334-502fd8234ad4",
    "slideshow": {
     "slide_type": "subslide"
    }
   },
   "outputs": [
    {
     "data": {
      "text/html": [
       "<div>\n",
       "<style>\n",
       "    .dataframe thead tr:only-child th {\n",
       "        text-align: right;\n",
       "    }\n",
       "\n",
       "    .dataframe thead th {\n",
       "        text-align: left;\n",
       "    }\n",
       "\n",
       "    .dataframe tbody tr th {\n",
       "        vertical-align: top;\n",
       "    }\n",
       "</style>\n",
       "<table border=\"1\" class=\"dataframe\">\n",
       "  <thead>\n",
       "    <tr style=\"text-align: right;\">\n",
       "      <th></th>\n",
       "      <th>constant1s</th>\n",
       "      <th>constant3s</th>\n",
       "      <th>date</th>\n",
       "      <th>foo</th>\n",
       "      <th>name</th>\n",
       "      <th>rands</th>\n",
       "    </tr>\n",
       "  </thead>\n",
       "  <tbody>\n",
       "    <tr>\n",
       "      <th>Obs1</th>\n",
       "      <td>1.0</td>\n",
       "      <td>3</td>\n",
       "      <td>2013-01-02</td>\n",
       "      <td>foo</td>\n",
       "      <td>rex</td>\n",
       "      <td>-28</td>\n",
       "    </tr>\n",
       "    <tr>\n",
       "      <th>Obs2</th>\n",
       "      <td>1.0</td>\n",
       "      <td>3</td>\n",
       "      <td>2013-01-02</td>\n",
       "      <td>foo</td>\n",
       "      <td>hex</td>\n",
       "      <td>-46</td>\n",
       "    </tr>\n",
       "  </tbody>\n",
       "</table>\n",
       "</div>"
      ],
      "text/plain": [
       "      constant1s  constant3s       date  foo name  rands\n",
       "Obs1         1.0           3 2013-01-02  foo  rex    -28\n",
       "Obs2         1.0           3 2013-01-02  foo  hex    -46"
      ]
     },
     "execution_count": 42,
     "metadata": {},
     "output_type": "execute_result"
    }
   ],
   "source": [
    "df2.head(2)"
   ]
  },
  {
   "cell_type": "code",
   "execution_count": 44,
   "metadata": {
    "focus": false,
    "id": "791189f7-053a-44bd-b13c-2c6ba2cb4df5",
    "slideshow": {
     "slide_type": "fragment"
    }
   },
   "outputs": [
    {
     "data": {
      "text/html": [
       "<div>\n",
       "<style>\n",
       "    .dataframe thead tr:only-child th {\n",
       "        text-align: right;\n",
       "    }\n",
       "\n",
       "    .dataframe thead th {\n",
       "        text-align: left;\n",
       "    }\n",
       "\n",
       "    .dataframe tbody tr th {\n",
       "        vertical-align: top;\n",
       "    }\n",
       "</style>\n",
       "<table border=\"1\" class=\"dataframe\">\n",
       "  <thead>\n",
       "    <tr style=\"text-align: right;\">\n",
       "      <th></th>\n",
       "      <th>constant1s</th>\n",
       "      <th>constant3s</th>\n",
       "      <th>date</th>\n",
       "      <th>foo</th>\n",
       "      <th>name</th>\n",
       "      <th>rands</th>\n",
       "    </tr>\n",
       "  </thead>\n",
       "  <tbody>\n",
       "    <tr>\n",
       "      <th>Obs2</th>\n",
       "      <td>1.0</td>\n",
       "      <td>3</td>\n",
       "      <td>2013-01-02</td>\n",
       "      <td>foo</td>\n",
       "      <td>hex</td>\n",
       "      <td>-46</td>\n",
       "    </tr>\n",
       "    <tr>\n",
       "      <th>Obs3</th>\n",
       "      <td>1.0</td>\n",
       "      <td>3</td>\n",
       "      <td>2013-01-02</td>\n",
       "      <td>foo</td>\n",
       "      <td>nex</td>\n",
       "      <td>96</td>\n",
       "    </tr>\n",
       "    <tr>\n",
       "      <th>Obs4</th>\n",
       "      <td>1.0</td>\n",
       "      <td>3</td>\n",
       "      <td>2013-01-02</td>\n",
       "      <td>foo</td>\n",
       "      <td>tex</td>\n",
       "      <td>50</td>\n",
       "    </tr>\n",
       "  </tbody>\n",
       "</table>\n",
       "</div>"
      ],
      "text/plain": [
       "      constant1s  constant3s       date  foo name  rands\n",
       "Obs2         1.0           3 2013-01-02  foo  hex    -46\n",
       "Obs3         1.0           3 2013-01-02  foo  nex     96\n",
       "Obs4         1.0           3 2013-01-02  foo  tex     50"
      ]
     },
     "execution_count": 44,
     "metadata": {},
     "output_type": "execute_result"
    }
   ],
   "source": [
    "df2.tail(3)"
   ]
  },
  {
   "cell_type": "code",
   "execution_count": 52,
   "metadata": {
    "focus": false,
    "id": "fc1c8091-670a-4f81-9d6f-158958c3b413",
    "slideshow": {
     "slide_type": "subslide"
    }
   },
   "outputs": [
    {
     "data": {
      "text/plain": [
       "Index([u'Obs1', u'Obs2', u'Obs3', u'Obs4'], dtype='object')"
      ]
     },
     "execution_count": 52,
     "metadata": {},
     "output_type": "execute_result"
    }
   ],
   "source": [
    "df2.index"
   ]
  },
  {
   "cell_type": "code",
   "execution_count": 45,
   "metadata": {
    "focus": false,
    "id": "337688a9-1ab9-4909-80c8-159cec177b2e",
    "slideshow": {
     "slide_type": "subslide"
    }
   },
   "outputs": [
    {
     "data": {
      "text/html": [
       "<div>\n",
       "<style>\n",
       "    .dataframe thead tr:only-child th {\n",
       "        text-align: right;\n",
       "    }\n",
       "\n",
       "    .dataframe thead th {\n",
       "        text-align: left;\n",
       "    }\n",
       "\n",
       "    .dataframe tbody tr th {\n",
       "        vertical-align: top;\n",
       "    }\n",
       "</style>\n",
       "<table border=\"1\" class=\"dataframe\">\n",
       "  <thead>\n",
       "    <tr style=\"text-align: right;\">\n",
       "      <th></th>\n",
       "      <th>constant1s</th>\n",
       "      <th>constant3s</th>\n",
       "      <th>rands</th>\n",
       "    </tr>\n",
       "  </thead>\n",
       "  <tbody>\n",
       "    <tr>\n",
       "      <th>count</th>\n",
       "      <td>4.0</td>\n",
       "      <td>4.0</td>\n",
       "      <td>4.000000</td>\n",
       "    </tr>\n",
       "    <tr>\n",
       "      <th>mean</th>\n",
       "      <td>1.0</td>\n",
       "      <td>3.0</td>\n",
       "      <td>18.000000</td>\n",
       "    </tr>\n",
       "    <tr>\n",
       "      <th>std</th>\n",
       "      <td>0.0</td>\n",
       "      <td>0.0</td>\n",
       "      <td>66.633325</td>\n",
       "    </tr>\n",
       "    <tr>\n",
       "      <th>min</th>\n",
       "      <td>1.0</td>\n",
       "      <td>3.0</td>\n",
       "      <td>-46.000000</td>\n",
       "    </tr>\n",
       "    <tr>\n",
       "      <th>25%</th>\n",
       "      <td>1.0</td>\n",
       "      <td>3.0</td>\n",
       "      <td>-32.500000</td>\n",
       "    </tr>\n",
       "    <tr>\n",
       "      <th>50%</th>\n",
       "      <td>1.0</td>\n",
       "      <td>3.0</td>\n",
       "      <td>11.000000</td>\n",
       "    </tr>\n",
       "    <tr>\n",
       "      <th>75%</th>\n",
       "      <td>1.0</td>\n",
       "      <td>3.0</td>\n",
       "      <td>61.500000</td>\n",
       "    </tr>\n",
       "    <tr>\n",
       "      <th>max</th>\n",
       "      <td>1.0</td>\n",
       "      <td>3.0</td>\n",
       "      <td>96.000000</td>\n",
       "    </tr>\n",
       "  </tbody>\n",
       "</table>\n",
       "</div>"
      ],
      "text/plain": [
       "       constant1s  constant3s      rands\n",
       "count         4.0         4.0   4.000000\n",
       "mean          1.0         3.0  18.000000\n",
       "std           0.0         0.0  66.633325\n",
       "min           1.0         3.0 -46.000000\n",
       "25%           1.0         3.0 -32.500000\n",
       "50%           1.0         3.0  11.000000\n",
       "75%           1.0         3.0  61.500000\n",
       "max           1.0         3.0  96.000000"
      ]
     },
     "execution_count": 45,
     "metadata": {},
     "output_type": "execute_result"
    }
   ],
   "source": [
    "df2.describe()"
   ]
  },
  {
   "cell_type": "code",
   "execution_count": 46,
   "metadata": {},
   "outputs": [
    {
     "name": "stdout",
     "output_type": "stream",
     "text": [
      "<class 'pandas.core.frame.DataFrame'>\n",
      "Index: 4 entries, Obs1 to Obs4\n",
      "Data columns (total 6 columns):\n",
      "constant1s    4 non-null float64\n",
      "constant3s    4 non-null int32\n",
      "date          4 non-null datetime64[ns]\n",
      "foo           4 non-null object\n",
      "name          4 non-null object\n",
      "rands         4 non-null int64\n",
      "dtypes: datetime64[ns](1), float64(1), int32(1), int64(1), object(2)\n",
      "memory usage: 208.0+ bytes\n"
     ]
    }
   ],
   "source": [
    "df2.info()"
   ]
  },
  {
   "cell_type": "code",
   "execution_count": 48,
   "metadata": {
    "focus": false,
    "id": "29c9b7a6-9d06-4f3b-b9d5-6ebc09cd561f",
    "slideshow": {
     "slide_type": "subslide"
    }
   },
   "outputs": [
    {
     "data": {
      "text/html": [
       "<div>\n",
       "<style>\n",
       "    .dataframe thead tr:only-child th {\n",
       "        text-align: right;\n",
       "    }\n",
       "\n",
       "    .dataframe thead th {\n",
       "        text-align: left;\n",
       "    }\n",
       "\n",
       "    .dataframe tbody tr th {\n",
       "        vertical-align: top;\n",
       "    }\n",
       "</style>\n",
       "<table border=\"1\" class=\"dataframe\">\n",
       "  <thead>\n",
       "    <tr style=\"text-align: right;\">\n",
       "      <th></th>\n",
       "      <th>constant1s</th>\n",
       "      <th>constant3s</th>\n",
       "      <th>date</th>\n",
       "      <th>foo</th>\n",
       "      <th>name</th>\n",
       "      <th>rands</th>\n",
       "    </tr>\n",
       "  </thead>\n",
       "  <tbody>\n",
       "    <tr>\n",
       "      <th>Obs3</th>\n",
       "      <td>1.0</td>\n",
       "      <td>3</td>\n",
       "      <td>2013-01-02</td>\n",
       "      <td>foo</td>\n",
       "      <td>nex</td>\n",
       "      <td>96</td>\n",
       "    </tr>\n",
       "    <tr>\n",
       "      <th>Obs4</th>\n",
       "      <td>1.0</td>\n",
       "      <td>3</td>\n",
       "      <td>2013-01-02</td>\n",
       "      <td>foo</td>\n",
       "      <td>tex</td>\n",
       "      <td>50</td>\n",
       "    </tr>\n",
       "    <tr>\n",
       "      <th>Obs1</th>\n",
       "      <td>1.0</td>\n",
       "      <td>3</td>\n",
       "      <td>2013-01-02</td>\n",
       "      <td>foo</td>\n",
       "      <td>rex</td>\n",
       "      <td>-28</td>\n",
       "    </tr>\n",
       "    <tr>\n",
       "      <th>Obs2</th>\n",
       "      <td>1.0</td>\n",
       "      <td>3</td>\n",
       "      <td>2013-01-02</td>\n",
       "      <td>foo</td>\n",
       "      <td>hex</td>\n",
       "      <td>-46</td>\n",
       "    </tr>\n",
       "  </tbody>\n",
       "</table>\n",
       "</div>"
      ],
      "text/plain": [
       "      constant1s  constant3s       date  foo name  rands\n",
       "Obs3         1.0           3 2013-01-02  foo  nex     96\n",
       "Obs4         1.0           3 2013-01-02  foo  tex     50\n",
       "Obs1         1.0           3 2013-01-02  foo  rex    -28\n",
       "Obs2         1.0           3 2013-01-02  foo  hex    -46"
      ]
     },
     "execution_count": 48,
     "metadata": {},
     "output_type": "execute_result"
    }
   ],
   "source": [
    "df2.sort_values(by = 'rands', inplace = True, ascending = False)\n",
    "df2"
   ]
  },
  {
   "cell_type": "markdown",
   "metadata": {
    "focus": false,
    "id": "1440616a-c3e7-4b5c-aec3-3705d76429cd",
    "slideshow": {
     "slide_type": "slide"
    }
   },
   "source": [
    "### Selection"
   ]
  },
  {
   "cell_type": "code",
   "execution_count": 26,
   "metadata": {
    "focus": false,
    "id": "7825e53c-bd40-4027-9581-42d8f5aafa93",
    "slideshow": {
     "slide_type": "subslide"
    }
   },
   "outputs": [
    {
     "name": "stdout",
     "output_type": "stream",
     "text": [
      "<class 'pandas.core.series.Series'>\n",
      "<class 'pandas.core.frame.DataFrame'>\n"
     ]
    }
   ],
   "source": [
    "print(type(df2['date']))\n",
    "print(type(df2[['date']]))"
   ]
  },
  {
   "cell_type": "code",
   "execution_count": 49,
   "metadata": {
    "focus": false,
    "id": "817868ae-d7df-425b-9368-e1b3c86a21d1",
    "slideshow": {
     "slide_type": "subslide"
    }
   },
   "outputs": [
    {
     "data": {
      "text/html": [
       "<div>\n",
       "<style>\n",
       "    .dataframe thead tr:only-child th {\n",
       "        text-align: right;\n",
       "    }\n",
       "\n",
       "    .dataframe thead th {\n",
       "        text-align: left;\n",
       "    }\n",
       "\n",
       "    .dataframe tbody tr th {\n",
       "        vertical-align: top;\n",
       "    }\n",
       "</style>\n",
       "<table border=\"1\" class=\"dataframe\">\n",
       "  <thead>\n",
       "    <tr style=\"text-align: right;\">\n",
       "      <th></th>\n",
       "      <th>constant1s</th>\n",
       "      <th>constant3s</th>\n",
       "      <th>date</th>\n",
       "      <th>foo</th>\n",
       "      <th>name</th>\n",
       "      <th>rands</th>\n",
       "    </tr>\n",
       "  </thead>\n",
       "  <tbody>\n",
       "    <tr>\n",
       "      <th>Obs3</th>\n",
       "      <td>1.0</td>\n",
       "      <td>3</td>\n",
       "      <td>2013-01-02</td>\n",
       "      <td>foo</td>\n",
       "      <td>nex</td>\n",
       "      <td>96</td>\n",
       "    </tr>\n",
       "    <tr>\n",
       "      <th>Obs4</th>\n",
       "      <td>1.0</td>\n",
       "      <td>3</td>\n",
       "      <td>2013-01-02</td>\n",
       "      <td>foo</td>\n",
       "      <td>tex</td>\n",
       "      <td>50</td>\n",
       "    </tr>\n",
       "    <tr>\n",
       "      <th>Obs1</th>\n",
       "      <td>1.0</td>\n",
       "      <td>3</td>\n",
       "      <td>2013-01-02</td>\n",
       "      <td>foo</td>\n",
       "      <td>rex</td>\n",
       "      <td>-28</td>\n",
       "    </tr>\n",
       "  </tbody>\n",
       "</table>\n",
       "</div>"
      ],
      "text/plain": [
       "      constant1s  constant3s       date  foo name  rands\n",
       "Obs3         1.0           3 2013-01-02  foo  nex     96\n",
       "Obs4         1.0           3 2013-01-02  foo  tex     50\n",
       "Obs1         1.0           3 2013-01-02  foo  rex    -28"
      ]
     },
     "execution_count": 49,
     "metadata": {},
     "output_type": "execute_result"
    }
   ],
   "source": [
    "df2[0:3]"
   ]
  },
  {
   "cell_type": "code",
   "execution_count": 51,
   "metadata": {
    "focus": false,
    "id": "dcf6444e-ae7d-4058-abb0-5046d16733d2",
    "slideshow": {
     "slide_type": "subslide"
    }
   },
   "outputs": [
    {
     "data": {
      "text/html": [
       "<div>\n",
       "<style>\n",
       "    .dataframe thead tr:only-child th {\n",
       "        text-align: right;\n",
       "    }\n",
       "\n",
       "    .dataframe thead th {\n",
       "        text-align: left;\n",
       "    }\n",
       "\n",
       "    .dataframe tbody tr th {\n",
       "        vertical-align: top;\n",
       "    }\n",
       "</style>\n",
       "<table border=\"1\" class=\"dataframe\">\n",
       "  <thead>\n",
       "    <tr style=\"text-align: right;\">\n",
       "      <th></th>\n",
       "      <th>constant1s</th>\n",
       "      <th>constant3s</th>\n",
       "      <th>date</th>\n",
       "      <th>foo</th>\n",
       "      <th>name</th>\n",
       "      <th>rands</th>\n",
       "    </tr>\n",
       "  </thead>\n",
       "  <tbody>\n",
       "    <tr>\n",
       "      <th>Obs1</th>\n",
       "      <td>1.0</td>\n",
       "      <td>3</td>\n",
       "      <td>2013-01-02</td>\n",
       "      <td>foo</td>\n",
       "      <td>rex</td>\n",
       "      <td>-28</td>\n",
       "    </tr>\n",
       "    <tr>\n",
       "      <th>Obs2</th>\n",
       "      <td>1.0</td>\n",
       "      <td>3</td>\n",
       "      <td>2013-01-02</td>\n",
       "      <td>foo</td>\n",
       "      <td>hex</td>\n",
       "      <td>-46</td>\n",
       "    </tr>\n",
       "  </tbody>\n",
       "</table>\n",
       "</div>"
      ],
      "text/plain": [
       "      constant1s  constant3s       date  foo name  rands\n",
       "Obs1         1.0           3 2013-01-02  foo  rex    -28\n",
       "Obs2         1.0           3 2013-01-02  foo  hex    -46"
      ]
     },
     "execution_count": 51,
     "metadata": {},
     "output_type": "execute_result"
    }
   ],
   "source": [
    "# By index label\n",
    "df2.loc[['Obs1', 'Obs2']]"
   ]
  },
  {
   "cell_type": "code",
   "execution_count": 53,
   "metadata": {},
   "outputs": [
    {
     "data": {
      "text/plain": [
       "constant1s                      1\n",
       "constant3s                      3\n",
       "date          2013-01-02 00:00:00\n",
       "foo                           foo\n",
       "name                          hex\n",
       "rands                         -46\n",
       "Name: Obs2, dtype: object"
      ]
     },
     "execution_count": 53,
     "metadata": {},
     "output_type": "execute_result"
    }
   ],
   "source": [
    "# By row number\n",
    "df2.iloc[3]"
   ]
  },
  {
   "cell_type": "markdown",
   "metadata": {},
   "source": [
    "# DON'T USE IX!\n",
    "\n",
    "* Depreciated"
   ]
  },
  {
   "cell_type": "code",
   "execution_count": 55,
   "metadata": {
    "focus": false,
    "id": "da51e123-4546-4c14-bdcc-969751f1991e",
    "slideshow": {
     "slide_type": "fragment"
    }
   },
   "outputs": [
    {
     "data": {
      "text/html": [
       "<div>\n",
       "<style>\n",
       "    .dataframe thead tr:only-child th {\n",
       "        text-align: right;\n",
       "    }\n",
       "\n",
       "    .dataframe thead th {\n",
       "        text-align: left;\n",
       "    }\n",
       "\n",
       "    .dataframe tbody tr th {\n",
       "        vertical-align: top;\n",
       "    }\n",
       "</style>\n",
       "<table border=\"1\" class=\"dataframe\">\n",
       "  <thead>\n",
       "    <tr style=\"text-align: right;\">\n",
       "      <th></th>\n",
       "      <th>date</th>\n",
       "      <th>name</th>\n",
       "    </tr>\n",
       "  </thead>\n",
       "  <tbody>\n",
       "    <tr>\n",
       "      <th>Obs4</th>\n",
       "      <td>2013-01-02</td>\n",
       "      <td>tex</td>\n",
       "    </tr>\n",
       "    <tr>\n",
       "      <th>Obs1</th>\n",
       "      <td>2013-01-02</td>\n",
       "      <td>rex</td>\n",
       "    </tr>\n",
       "  </tbody>\n",
       "</table>\n",
       "</div>"
      ],
      "text/plain": [
       "           date name\n",
       "Obs4 2013-01-02  tex\n",
       "Obs1 2013-01-02  rex"
      ]
     },
     "execution_count": 55,
     "metadata": {},
     "output_type": "execute_result"
    }
   ],
   "source": [
    "# multi-axis by label\n",
    "df2.iloc[1:3][['date', 'name']]"
   ]
  },
  {
   "cell_type": "markdown",
   "metadata": {
    "focus": false,
    "id": "16735d8f-3712-42a2-bd0e-8cd141fbe232",
    "slideshow": {
     "slide_type": "subslide"
    }
   },
   "source": [
    "### Filtering"
   ]
  },
  {
   "cell_type": "code",
   "execution_count": 54,
   "metadata": {},
   "outputs": [
    {
     "data": {
      "text/html": [
       "<div>\n",
       "<style>\n",
       "    .dataframe thead tr:only-child th {\n",
       "        text-align: right;\n",
       "    }\n",
       "\n",
       "    .dataframe thead th {\n",
       "        text-align: left;\n",
       "    }\n",
       "\n",
       "    .dataframe tbody tr th {\n",
       "        vertical-align: top;\n",
       "    }\n",
       "</style>\n",
       "<table border=\"1\" class=\"dataframe\">\n",
       "  <thead>\n",
       "    <tr style=\"text-align: right;\">\n",
       "      <th></th>\n",
       "      <th>A</th>\n",
       "      <th>B</th>\n",
       "      <th>C</th>\n",
       "      <th>D</th>\n",
       "    </tr>\n",
       "  </thead>\n",
       "  <tbody>\n",
       "    <tr>\n",
       "      <th>2014-01-01</th>\n",
       "      <td>1.526642</td>\n",
       "      <td>-1.056367</td>\n",
       "      <td>0.261044</td>\n",
       "      <td>-0.072560</td>\n",
       "    </tr>\n",
       "    <tr>\n",
       "      <th>2014-01-02</th>\n",
       "      <td>-0.322615</td>\n",
       "      <td>0.162695</td>\n",
       "      <td>0.753664</td>\n",
       "      <td>-0.590634</td>\n",
       "    </tr>\n",
       "    <tr>\n",
       "      <th>2014-01-03</th>\n",
       "      <td>-0.215158</td>\n",
       "      <td>0.392882</td>\n",
       "      <td>-0.858539</td>\n",
       "      <td>-1.952988</td>\n",
       "    </tr>\n",
       "    <tr>\n",
       "      <th>2014-01-04</th>\n",
       "      <td>0.768338</td>\n",
       "      <td>-2.215082</td>\n",
       "      <td>0.829841</td>\n",
       "      <td>1.772364</td>\n",
       "    </tr>\n",
       "    <tr>\n",
       "      <th>2014-01-05</th>\n",
       "      <td>-1.024821</td>\n",
       "      <td>-0.901176</td>\n",
       "      <td>-1.342059</td>\n",
       "      <td>-0.075436</td>\n",
       "    </tr>\n",
       "    <tr>\n",
       "      <th>2014-01-06</th>\n",
       "      <td>0.943796</td>\n",
       "      <td>1.757387</td>\n",
       "      <td>0.266227</td>\n",
       "      <td>-1.136569</td>\n",
       "    </tr>\n",
       "  </tbody>\n",
       "</table>\n",
       "</div>"
      ],
      "text/plain": [
       "                   A         B         C         D\n",
       "2014-01-01  1.526642 -1.056367  0.261044 -0.072560\n",
       "2014-01-02 -0.322615  0.162695  0.753664 -0.590634\n",
       "2014-01-03 -0.215158  0.392882 -0.858539 -1.952988\n",
       "2014-01-04  0.768338 -2.215082  0.829841  1.772364\n",
       "2014-01-05 -1.024821 -0.901176 -1.342059 -0.075436\n",
       "2014-01-06  0.943796  1.757387  0.266227 -1.136569"
      ]
     },
     "execution_count": 54,
     "metadata": {},
     "output_type": "execute_result"
    }
   ],
   "source": []
  },
  {
   "cell_type": "code",
   "execution_count": 56,
   "metadata": {
    "focus": false,
    "id": "a0af5955-c7e0-4d83-aea2-1972b21b8974",
    "slideshow": {
     "slide_type": "fragment"
    }
   },
   "outputs": [
    {
     "data": {
      "text/html": [
       "<div>\n",
       "<style>\n",
       "    .dataframe thead tr:only-child th {\n",
       "        text-align: right;\n",
       "    }\n",
       "\n",
       "    .dataframe thead th {\n",
       "        text-align: left;\n",
       "    }\n",
       "\n",
       "    .dataframe tbody tr th {\n",
       "        vertical-align: top;\n",
       "    }\n",
       "</style>\n",
       "<table border=\"1\" class=\"dataframe\">\n",
       "  <thead>\n",
       "    <tr style=\"text-align: right;\">\n",
       "      <th></th>\n",
       "      <th>A</th>\n",
       "      <th>B</th>\n",
       "      <th>C</th>\n",
       "      <th>D</th>\n",
       "    </tr>\n",
       "  </thead>\n",
       "  <tbody>\n",
       "    <tr>\n",
       "      <th>2014-01-02</th>\n",
       "      <td>0.727926</td>\n",
       "      <td>-1.145034</td>\n",
       "      <td>-1.023579</td>\n",
       "      <td>-0.052420</td>\n",
       "    </tr>\n",
       "    <tr>\n",
       "      <th>2014-01-04</th>\n",
       "      <td>0.755831</td>\n",
       "      <td>-0.221405</td>\n",
       "      <td>1.402572</td>\n",
       "      <td>0.493049</td>\n",
       "    </tr>\n",
       "  </tbody>\n",
       "</table>\n",
       "</div>"
      ],
      "text/plain": [
       "                   A         B         C         D\n",
       "2014-01-02  0.727926 -1.145034 -1.023579 -0.052420\n",
       "2014-01-04  0.755831 -0.221405  1.402572  0.493049"
      ]
     },
     "execution_count": 56,
     "metadata": {},
     "output_type": "execute_result"
    }
   ],
   "source": [
    "#And\n",
    "df[(df['A'] > 0) & (df['B'] < 1.0)]"
   ]
  },
  {
   "cell_type": "code",
   "execution_count": 61,
   "metadata": {},
   "outputs": [
    {
     "data": {
      "text/html": [
       "<div>\n",
       "<style>\n",
       "    .dataframe thead tr:only-child th {\n",
       "        text-align: right;\n",
       "    }\n",
       "\n",
       "    .dataframe thead th {\n",
       "        text-align: left;\n",
       "    }\n",
       "\n",
       "    .dataframe tbody tr th {\n",
       "        vertical-align: top;\n",
       "    }\n",
       "</style>\n",
       "<table border=\"1\" class=\"dataframe\">\n",
       "  <thead>\n",
       "    <tr style=\"text-align: right;\">\n",
       "      <th></th>\n",
       "      <th>constant1s</th>\n",
       "      <th>constant3s</th>\n",
       "      <th>date</th>\n",
       "      <th>foo</th>\n",
       "      <th>name</th>\n",
       "      <th>rands</th>\n",
       "    </tr>\n",
       "  </thead>\n",
       "  <tbody>\n",
       "    <tr>\n",
       "      <th>Obs1</th>\n",
       "      <td>1.0</td>\n",
       "      <td>3</td>\n",
       "      <td>2013-01-02</td>\n",
       "      <td>foo</td>\n",
       "      <td>rex</td>\n",
       "      <td>-6</td>\n",
       "    </tr>\n",
       "    <tr>\n",
       "      <th>Obs2</th>\n",
       "      <td>1.0</td>\n",
       "      <td>3</td>\n",
       "      <td>2013-01-02</td>\n",
       "      <td>foo</td>\n",
       "      <td>hex</td>\n",
       "      <td>79</td>\n",
       "    </tr>\n",
       "    <tr>\n",
       "      <th>Obs3</th>\n",
       "      <td>1.0</td>\n",
       "      <td>3</td>\n",
       "      <td>2013-01-02</td>\n",
       "      <td>foo</td>\n",
       "      <td>nex</td>\n",
       "      <td>-36</td>\n",
       "    </tr>\n",
       "    <tr>\n",
       "      <th>Obs4</th>\n",
       "      <td>1.0</td>\n",
       "      <td>3</td>\n",
       "      <td>2013-01-02</td>\n",
       "      <td>foo</td>\n",
       "      <td>tex</td>\n",
       "      <td>10</td>\n",
       "    </tr>\n",
       "  </tbody>\n",
       "</table>\n",
       "</div>"
      ],
      "text/plain": [
       "      constant1s  constant3s       date  foo name  rands\n",
       "Obs1         1.0           3 2013-01-02  foo  rex     -6\n",
       "Obs2         1.0           3 2013-01-02  foo  hex     79\n",
       "Obs3         1.0           3 2013-01-02  foo  nex    -36\n",
       "Obs4         1.0           3 2013-01-02  foo  tex     10"
      ]
     },
     "execution_count": 61,
     "metadata": {},
     "output_type": "execute_result"
    }
   ],
   "source": [
    "df2"
   ]
  },
  {
   "cell_type": "code",
   "execution_count": 65,
   "metadata": {},
   "outputs": [
    {
     "data": {
      "text/html": [
       "<div>\n",
       "<style>\n",
       "    .dataframe thead tr:only-child th {\n",
       "        text-align: right;\n",
       "    }\n",
       "\n",
       "    .dataframe thead th {\n",
       "        text-align: left;\n",
       "    }\n",
       "\n",
       "    .dataframe tbody tr th {\n",
       "        vertical-align: top;\n",
       "    }\n",
       "</style>\n",
       "<table border=\"1\" class=\"dataframe\">\n",
       "  <thead>\n",
       "    <tr style=\"text-align: right;\">\n",
       "      <th></th>\n",
       "      <th>constant1s</th>\n",
       "      <th>constant3s</th>\n",
       "      <th>date</th>\n",
       "      <th>foo</th>\n",
       "      <th>name</th>\n",
       "      <th>rands</th>\n",
       "    </tr>\n",
       "  </thead>\n",
       "  <tbody>\n",
       "    <tr>\n",
       "      <th>Obs2</th>\n",
       "      <td>1.0</td>\n",
       "      <td>3</td>\n",
       "      <td>2013-01-02</td>\n",
       "      <td>foo</td>\n",
       "      <td>hex</td>\n",
       "      <td>79</td>\n",
       "    </tr>\n",
       "    <tr>\n",
       "      <th>Obs4</th>\n",
       "      <td>1.0</td>\n",
       "      <td>3</td>\n",
       "      <td>2013-01-02</td>\n",
       "      <td>foo</td>\n",
       "      <td>tex</td>\n",
       "      <td>10</td>\n",
       "    </tr>\n",
       "  </tbody>\n",
       "</table>\n",
       "</div>"
      ],
      "text/plain": [
       "      constant1s  constant3s       date  foo name  rands\n",
       "Obs2         1.0           3 2013-01-02  foo  hex     79\n",
       "Obs4         1.0           3 2013-01-02  foo  tex     10"
      ]
     },
     "execution_count": 65,
     "metadata": {},
     "output_type": "execute_result"
    }
   ],
   "source": [
    "#Or\n",
    "\n",
    "df2[(df2['name'] == 'hex') | (df2['name'] == 'tex')]"
   ]
  },
  {
   "cell_type": "code",
   "execution_count": 74,
   "metadata": {},
   "outputs": [
    {
     "data": {
      "text/html": [
       "<div>\n",
       "<style>\n",
       "    .dataframe thead tr:only-child th {\n",
       "        text-align: right;\n",
       "    }\n",
       "\n",
       "    .dataframe thead th {\n",
       "        text-align: left;\n",
       "    }\n",
       "\n",
       "    .dataframe tbody tr th {\n",
       "        vertical-align: top;\n",
       "    }\n",
       "</style>\n",
       "<table border=\"1\" class=\"dataframe\">\n",
       "  <thead>\n",
       "    <tr style=\"text-align: right;\">\n",
       "      <th></th>\n",
       "      <th>constant1s</th>\n",
       "      <th>constant3s</th>\n",
       "      <th>date</th>\n",
       "      <th>foo</th>\n",
       "      <th>name</th>\n",
       "      <th>rands</th>\n",
       "    </tr>\n",
       "  </thead>\n",
       "  <tbody>\n",
       "    <tr>\n",
       "      <th>Obs1</th>\n",
       "      <td>1.0</td>\n",
       "      <td>3</td>\n",
       "      <td>2013-01-02</td>\n",
       "      <td>foo</td>\n",
       "      <td>rex</td>\n",
       "      <td>-6</td>\n",
       "    </tr>\n",
       "    <tr>\n",
       "      <th>Obs2</th>\n",
       "      <td>1.0</td>\n",
       "      <td>3</td>\n",
       "      <td>2013-01-02</td>\n",
       "      <td>foo</td>\n",
       "      <td>hex</td>\n",
       "      <td>79</td>\n",
       "    </tr>\n",
       "    <tr>\n",
       "      <th>Obs4</th>\n",
       "      <td>1.0</td>\n",
       "      <td>3</td>\n",
       "      <td>2013-01-02</td>\n",
       "      <td>foo</td>\n",
       "      <td>tex</td>\n",
       "      <td>10</td>\n",
       "    </tr>\n",
       "  </tbody>\n",
       "</table>\n",
       "</div>"
      ],
      "text/plain": [
       "      constant1s  constant3s       date  foo name  rands\n",
       "Obs1         1.0           3 2013-01-02  foo  rex     -6\n",
       "Obs2         1.0           3 2013-01-02  foo  hex     79\n",
       "Obs4         1.0           3 2013-01-02  foo  tex     10"
      ]
     },
     "execution_count": 74,
     "metadata": {},
     "output_type": "execute_result"
    }
   ],
   "source": [
    "#Not\n",
    "\n",
    "df2[df2['name'] != 'nex']"
   ]
  },
  {
   "cell_type": "code",
   "execution_count": 72,
   "metadata": {},
   "outputs": [
    {
     "data": {
      "text/plain": [
       "Obs1     True\n",
       "Obs2     True\n",
       "Obs3    False\n",
       "Obs4     True\n",
       "Name: name, dtype: bool"
      ]
     },
     "execution_count": 72,
     "metadata": {},
     "output_type": "execute_result"
    }
   ],
   "source": [
    "df2['name'] != 'nex'"
   ]
  },
  {
   "cell_type": "markdown",
   "metadata": {
    "focus": false,
    "id": "c22c86db-8892-4337-b70f-5e849ee63daa",
    "slideshow": {
     "slide_type": "subslide"
    }
   },
   "source": [
    "### Setting"
   ]
  },
  {
   "cell_type": "code",
   "execution_count": 30,
   "metadata": {},
   "outputs": [
    {
     "data": {
      "text/html": [
       "<div>\n",
       "<style>\n",
       "    .dataframe thead tr:only-child th {\n",
       "        text-align: right;\n",
       "    }\n",
       "\n",
       "    .dataframe thead th {\n",
       "        text-align: left;\n",
       "    }\n",
       "\n",
       "    .dataframe tbody tr th {\n",
       "        vertical-align: top;\n",
       "    }\n",
       "</style>\n",
       "<table border=\"1\" class=\"dataframe\">\n",
       "  <thead>\n",
       "    <tr style=\"text-align: right;\">\n",
       "      <th></th>\n",
       "      <th>A</th>\n",
       "      <th>B</th>\n",
       "      <th>C</th>\n",
       "      <th>D</th>\n",
       "    </tr>\n",
       "  </thead>\n",
       "  <tbody>\n",
       "    <tr>\n",
       "      <th>2014-01-01</th>\n",
       "      <td>1.526642</td>\n",
       "      <td>-1.056367</td>\n",
       "      <td>0.261044</td>\n",
       "      <td>-0.072560</td>\n",
       "    </tr>\n",
       "    <tr>\n",
       "      <th>2014-01-02</th>\n",
       "      <td>-0.322615</td>\n",
       "      <td>0.162695</td>\n",
       "      <td>0.753664</td>\n",
       "      <td>-0.590634</td>\n",
       "    </tr>\n",
       "    <tr>\n",
       "      <th>2014-01-03</th>\n",
       "      <td>-0.215158</td>\n",
       "      <td>0.392882</td>\n",
       "      <td>-0.858539</td>\n",
       "      <td>-1.952988</td>\n",
       "    </tr>\n",
       "    <tr>\n",
       "      <th>2014-01-04</th>\n",
       "      <td>0.768338</td>\n",
       "      <td>-2.215082</td>\n",
       "      <td>0.829841</td>\n",
       "      <td>1.772364</td>\n",
       "    </tr>\n",
       "    <tr>\n",
       "      <th>2014-01-05</th>\n",
       "      <td>-1.024821</td>\n",
       "      <td>-0.901176</td>\n",
       "      <td>-1.342059</td>\n",
       "      <td>-0.075436</td>\n",
       "    </tr>\n",
       "    <tr>\n",
       "      <th>2014-01-06</th>\n",
       "      <td>0.943796</td>\n",
       "      <td>1.757387</td>\n",
       "      <td>0.266227</td>\n",
       "      <td>-1.136569</td>\n",
       "    </tr>\n",
       "  </tbody>\n",
       "</table>\n",
       "</div>"
      ],
      "text/plain": [
       "                   A         B         C         D\n",
       "2014-01-01  1.526642 -1.056367  0.261044 -0.072560\n",
       "2014-01-02 -0.322615  0.162695  0.753664 -0.590634\n",
       "2014-01-03 -0.215158  0.392882 -0.858539 -1.952988\n",
       "2014-01-04  0.768338 -2.215082  0.829841  1.772364\n",
       "2014-01-05 -1.024821 -0.901176 -1.342059 -0.075436\n",
       "2014-01-06  0.943796  1.757387  0.266227 -1.136569"
      ]
     },
     "execution_count": 30,
     "metadata": {},
     "output_type": "execute_result"
    }
   ],
   "source": [
    "df"
   ]
  },
  {
   "cell_type": "code",
   "execution_count": 31,
   "metadata": {
    "focus": false,
    "id": "8d65e283-2ba8-43c1-ba16-e69da80b51b9",
    "slideshow": {
     "slide_type": "fragment"
    }
   },
   "outputs": [
    {
     "data": {
      "text/html": [
       "<div>\n",
       "<style>\n",
       "    .dataframe thead tr:only-child th {\n",
       "        text-align: right;\n",
       "    }\n",
       "\n",
       "    .dataframe thead th {\n",
       "        text-align: left;\n",
       "    }\n",
       "\n",
       "    .dataframe tbody tr th {\n",
       "        vertical-align: top;\n",
       "    }\n",
       "</style>\n",
       "<table border=\"1\" class=\"dataframe\">\n",
       "  <thead>\n",
       "    <tr style=\"text-align: right;\">\n",
       "      <th></th>\n",
       "      <th>A</th>\n",
       "      <th>B</th>\n",
       "      <th>C</th>\n",
       "      <th>D</th>\n",
       "    </tr>\n",
       "  </thead>\n",
       "  <tbody>\n",
       "    <tr>\n",
       "      <th>2014-01-01</th>\n",
       "      <td>1.526642</td>\n",
       "      <td>-1.056367</td>\n",
       "      <td>0.261044</td>\n",
       "      <td>-0.072560</td>\n",
       "    </tr>\n",
       "    <tr>\n",
       "      <th>2014-01-02</th>\n",
       "      <td>0.322615</td>\n",
       "      <td>-0.162695</td>\n",
       "      <td>-0.753664</td>\n",
       "      <td>0.590634</td>\n",
       "    </tr>\n",
       "    <tr>\n",
       "      <th>2014-01-03</th>\n",
       "      <td>0.215158</td>\n",
       "      <td>-0.392882</td>\n",
       "      <td>0.858539</td>\n",
       "      <td>1.952988</td>\n",
       "    </tr>\n",
       "    <tr>\n",
       "      <th>2014-01-04</th>\n",
       "      <td>0.768338</td>\n",
       "      <td>-2.215082</td>\n",
       "      <td>0.829841</td>\n",
       "      <td>1.772364</td>\n",
       "    </tr>\n",
       "    <tr>\n",
       "      <th>2014-01-05</th>\n",
       "      <td>1.024821</td>\n",
       "      <td>0.901176</td>\n",
       "      <td>1.342059</td>\n",
       "      <td>0.075436</td>\n",
       "    </tr>\n",
       "    <tr>\n",
       "      <th>2014-01-06</th>\n",
       "      <td>0.943796</td>\n",
       "      <td>1.757387</td>\n",
       "      <td>0.266227</td>\n",
       "      <td>-1.136569</td>\n",
       "    </tr>\n",
       "  </tbody>\n",
       "</table>\n",
       "</div>"
      ],
      "text/plain": [
       "                   A         B         C         D\n",
       "2014-01-01  1.526642 -1.056367  0.261044 -0.072560\n",
       "2014-01-02  0.322615 -0.162695 -0.753664  0.590634\n",
       "2014-01-03  0.215158 -0.392882  0.858539  1.952988\n",
       "2014-01-04  0.768338 -2.215082  0.829841  1.772364\n",
       "2014-01-05  1.024821  0.901176  1.342059  0.075436\n",
       "2014-01-06  0.943796  1.757387  0.266227 -1.136569"
      ]
     },
     "execution_count": 31,
     "metadata": {},
     "output_type": "execute_result"
    }
   ],
   "source": [
    "df_posA = df.copy() # Without \"copy\" it would act on the dataset\n",
    "\n",
    "df_posA[df_posA['A'] < 0] = -1 * df_posA\n",
    "\n",
    "df_posA"
   ]
  },
  {
   "cell_type": "code",
   "execution_count": 79,
   "metadata": {
    "collapsed": true,
    "focus": false,
    "id": "f45e9be0-2c20-4d49-b167-911f076a00b2",
    "slideshow": {
     "slide_type": "subslide"
    }
   },
   "outputs": [],
   "source": [
    "#Setting new column aligns data by index\n",
    "s1 = pd.Series([1,2,3,4,5,6],\n",
    "               index = pd.date_range('20140102', periods = 6))"
   ]
  },
  {
   "cell_type": "code",
   "execution_count": 80,
   "metadata": {
    "focus": false,
    "id": "12df6591-5940-4198-a7f9-9f7563afc75b",
    "slideshow": {
     "slide_type": "fragment"
    }
   },
   "outputs": [
    {
     "data": {
      "text/plain": [
       "2014-01-02    1\n",
       "2014-01-03    2\n",
       "2014-01-04    3\n",
       "2014-01-05    4\n",
       "2014-01-06    5\n",
       "2014-01-07    6\n",
       "Freq: D, dtype: int64"
      ]
     },
     "execution_count": 80,
     "metadata": {},
     "output_type": "execute_result"
    }
   ],
   "source": [
    "s1"
   ]
  },
  {
   "cell_type": "code",
   "execution_count": 81,
   "metadata": {
    "collapsed": true,
    "focus": false,
    "id": "7281af7b-395f-417b-aa07-c53a26591fc7",
    "slideshow": {
     "slide_type": "fragment"
    }
   },
   "outputs": [],
   "source": [
    "df['F'] = s1"
   ]
  },
  {
   "cell_type": "code",
   "execution_count": 75,
   "metadata": {
    "focus": false,
    "id": "d41dfe6d-025f-4078-a33b-3e7e0ea0d1dc",
    "slideshow": {
     "slide_type": "fragment"
    }
   },
   "outputs": [
    {
     "data": {
      "text/html": [
       "<div>\n",
       "<style>\n",
       "    .dataframe thead tr:only-child th {\n",
       "        text-align: right;\n",
       "    }\n",
       "\n",
       "    .dataframe thead th {\n",
       "        text-align: left;\n",
       "    }\n",
       "\n",
       "    .dataframe tbody tr th {\n",
       "        vertical-align: top;\n",
       "    }\n",
       "</style>\n",
       "<table border=\"1\" class=\"dataframe\">\n",
       "  <thead>\n",
       "    <tr style=\"text-align: right;\">\n",
       "      <th></th>\n",
       "      <th>A</th>\n",
       "      <th>B</th>\n",
       "      <th>C</th>\n",
       "      <th>D</th>\n",
       "    </tr>\n",
       "  </thead>\n",
       "  <tbody>\n",
       "    <tr>\n",
       "      <th>2014-01-01</th>\n",
       "      <td>1.526642</td>\n",
       "      <td>-1.056367</td>\n",
       "      <td>0.261044</td>\n",
       "      <td>-0.072560</td>\n",
       "    </tr>\n",
       "    <tr>\n",
       "      <th>2014-01-02</th>\n",
       "      <td>-0.322615</td>\n",
       "      <td>0.162695</td>\n",
       "      <td>0.753664</td>\n",
       "      <td>-0.590634</td>\n",
       "    </tr>\n",
       "    <tr>\n",
       "      <th>2014-01-03</th>\n",
       "      <td>-0.215158</td>\n",
       "      <td>0.392882</td>\n",
       "      <td>-0.858539</td>\n",
       "      <td>-1.952988</td>\n",
       "    </tr>\n",
       "    <tr>\n",
       "      <th>2014-01-04</th>\n",
       "      <td>0.768338</td>\n",
       "      <td>-2.215082</td>\n",
       "      <td>0.829841</td>\n",
       "      <td>1.772364</td>\n",
       "    </tr>\n",
       "    <tr>\n",
       "      <th>2014-01-05</th>\n",
       "      <td>-1.024821</td>\n",
       "      <td>-0.901176</td>\n",
       "      <td>-1.342059</td>\n",
       "      <td>-0.075436</td>\n",
       "    </tr>\n",
       "    <tr>\n",
       "      <th>2014-01-06</th>\n",
       "      <td>0.943796</td>\n",
       "      <td>1.757387</td>\n",
       "      <td>0.266227</td>\n",
       "      <td>-1.136569</td>\n",
       "    </tr>\n",
       "  </tbody>\n",
       "</table>\n",
       "</div>"
      ],
      "text/plain": [
       "                   A         B         C         D\n",
       "2014-01-01  1.526642 -1.056367  0.261044 -0.072560\n",
       "2014-01-02 -0.322615  0.162695  0.753664 -0.590634\n",
       "2014-01-03 -0.215158  0.392882 -0.858539 -1.952988\n",
       "2014-01-04  0.768338 -2.215082  0.829841  1.772364\n",
       "2014-01-05 -1.024821 -0.901176 -1.342059 -0.075436\n",
       "2014-01-06  0.943796  1.757387  0.266227 -1.136569"
      ]
     },
     "execution_count": 75,
     "metadata": {},
     "output_type": "execute_result"
    }
   ],
   "source": [
    "df"
   ]
  },
  {
   "cell_type": "markdown",
   "metadata": {
    "focus": false,
    "id": "203fd0e7-9ad9-4dcc-8167-72bd28e7a029",
    "slideshow": {
     "slide_type": "slide"
    }
   },
   "source": [
    "### Missing Data"
   ]
  },
  {
   "cell_type": "code",
   "execution_count": 58,
   "metadata": {
    "collapsed": true,
    "focus": false,
    "id": "98b7be6a-8d81-4c29-9439-2b5c5fae1dce",
    "slideshow": {
     "slide_type": "subslide"
    }
   },
   "outputs": [],
   "source": [
    "# Add a column with missing data\n",
    "df1 = df.reindex(index=dates[0:4],columns=list(df.columns) + ['E'])"
   ]
  },
  {
   "cell_type": "code",
   "execution_count": 59,
   "metadata": {
    "collapsed": true,
    "focus": false,
    "id": "e13067da-23ce-440f-9e0d-693e4e5565c2",
    "slideshow": {
     "slide_type": "subslide"
    }
   },
   "outputs": [],
   "source": [
    "df1.loc[dates[0]:dates[1],'E'] = 1"
   ]
  },
  {
   "cell_type": "code",
   "execution_count": 60,
   "metadata": {
    "focus": false,
    "id": "24e2f95e-75dc-42ed-93fb-8fae3e9623a6",
    "slideshow": {
     "slide_type": "fragment"
    }
   },
   "outputs": [
    {
     "data": {
      "text/html": [
       "<div>\n",
       "<style>\n",
       "    .dataframe thead tr:only-child th {\n",
       "        text-align: right;\n",
       "    }\n",
       "\n",
       "    .dataframe thead th {\n",
       "        text-align: left;\n",
       "    }\n",
       "\n",
       "    .dataframe tbody tr th {\n",
       "        vertical-align: top;\n",
       "    }\n",
       "</style>\n",
       "<table border=\"1\" class=\"dataframe\">\n",
       "  <thead>\n",
       "    <tr style=\"text-align: right;\">\n",
       "      <th></th>\n",
       "      <th>A</th>\n",
       "      <th>B</th>\n",
       "      <th>C</th>\n",
       "      <th>D</th>\n",
       "      <th>E</th>\n",
       "    </tr>\n",
       "  </thead>\n",
       "  <tbody>\n",
       "    <tr>\n",
       "      <th>2014-01-01</th>\n",
       "      <td>-0.817283</td>\n",
       "      <td>-0.418365</td>\n",
       "      <td>0.014888</td>\n",
       "      <td>-1.561872</td>\n",
       "      <td>1.0</td>\n",
       "    </tr>\n",
       "    <tr>\n",
       "      <th>2014-01-02</th>\n",
       "      <td>0.727926</td>\n",
       "      <td>-1.145034</td>\n",
       "      <td>-1.023579</td>\n",
       "      <td>-0.052420</td>\n",
       "      <td>1.0</td>\n",
       "    </tr>\n",
       "    <tr>\n",
       "      <th>2014-01-03</th>\n",
       "      <td>-0.897618</td>\n",
       "      <td>0.221578</td>\n",
       "      <td>-0.343496</td>\n",
       "      <td>-1.466176</td>\n",
       "      <td>NaN</td>\n",
       "    </tr>\n",
       "    <tr>\n",
       "      <th>2014-01-04</th>\n",
       "      <td>0.755831</td>\n",
       "      <td>-0.221405</td>\n",
       "      <td>1.402572</td>\n",
       "      <td>0.493049</td>\n",
       "      <td>NaN</td>\n",
       "    </tr>\n",
       "  </tbody>\n",
       "</table>\n",
       "</div>"
      ],
      "text/plain": [
       "                   A         B         C         D    E\n",
       "2014-01-01 -0.817283 -0.418365  0.014888 -1.561872  1.0\n",
       "2014-01-02  0.727926 -1.145034 -1.023579 -0.052420  1.0\n",
       "2014-01-03 -0.897618  0.221578 -0.343496 -1.466176  NaN\n",
       "2014-01-04  0.755831 -0.221405  1.402572  0.493049  NaN"
      ]
     },
     "execution_count": 60,
     "metadata": {},
     "output_type": "execute_result"
    }
   ],
   "source": [
    "df1"
   ]
  },
  {
   "cell_type": "code",
   "execution_count": 61,
   "metadata": {
    "focus": false,
    "id": "3521940b-df04-432a-9cfc-18a1353d9652",
    "slideshow": {
     "slide_type": "subslide"
    }
   },
   "outputs": [
    {
     "data": {
      "text/plain": [
       "2014-01-01    False\n",
       "2014-01-02    False\n",
       "2014-01-03     True\n",
       "2014-01-04     True\n",
       "Freq: D, Name: E, dtype: bool"
      ]
     },
     "execution_count": 61,
     "metadata": {},
     "output_type": "execute_result"
    }
   ],
   "source": [
    "# find where values are null in a single column\n",
    "df1['E'].isnull()"
   ]
  },
  {
   "cell_type": "code",
   "execution_count": 62,
   "metadata": {},
   "outputs": [
    {
     "data": {
      "text/html": [
       "<div>\n",
       "<style>\n",
       "    .dataframe thead tr:only-child th {\n",
       "        text-align: right;\n",
       "    }\n",
       "\n",
       "    .dataframe thead th {\n",
       "        text-align: left;\n",
       "    }\n",
       "\n",
       "    .dataframe tbody tr th {\n",
       "        vertical-align: top;\n",
       "    }\n",
       "</style>\n",
       "<table border=\"1\" class=\"dataframe\">\n",
       "  <thead>\n",
       "    <tr style=\"text-align: right;\">\n",
       "      <th></th>\n",
       "      <th>A</th>\n",
       "      <th>B</th>\n",
       "      <th>C</th>\n",
       "      <th>D</th>\n",
       "      <th>E</th>\n",
       "    </tr>\n",
       "  </thead>\n",
       "  <tbody>\n",
       "    <tr>\n",
       "      <th>2014-01-01</th>\n",
       "      <td>False</td>\n",
       "      <td>False</td>\n",
       "      <td>False</td>\n",
       "      <td>False</td>\n",
       "      <td>False</td>\n",
       "    </tr>\n",
       "    <tr>\n",
       "      <th>2014-01-02</th>\n",
       "      <td>False</td>\n",
       "      <td>False</td>\n",
       "      <td>False</td>\n",
       "      <td>False</td>\n",
       "      <td>False</td>\n",
       "    </tr>\n",
       "    <tr>\n",
       "      <th>2014-01-03</th>\n",
       "      <td>False</td>\n",
       "      <td>False</td>\n",
       "      <td>False</td>\n",
       "      <td>False</td>\n",
       "      <td>True</td>\n",
       "    </tr>\n",
       "    <tr>\n",
       "      <th>2014-01-04</th>\n",
       "      <td>False</td>\n",
       "      <td>False</td>\n",
       "      <td>False</td>\n",
       "      <td>False</td>\n",
       "      <td>True</td>\n",
       "    </tr>\n",
       "  </tbody>\n",
       "</table>\n",
       "</div>"
      ],
      "text/plain": [
       "                A      B      C      D      E\n",
       "2014-01-01  False  False  False  False  False\n",
       "2014-01-02  False  False  False  False  False\n",
       "2014-01-03  False  False  False  False   True\n",
       "2014-01-04  False  False  False  False   True"
      ]
     },
     "execution_count": 62,
     "metadata": {},
     "output_type": "execute_result"
    }
   ],
   "source": [
    "#Or the entire dataframe \n",
    "\n",
    "df1.isnull()"
   ]
  },
  {
   "cell_type": "code",
   "execution_count": 83,
   "metadata": {},
   "outputs": [
    {
     "data": {
      "text/plain": [
       "A    0\n",
       "B    0\n",
       "C    0\n",
       "D    0\n",
       "E    2\n",
       "dtype: int64"
      ]
     },
     "execution_count": 83,
     "metadata": {},
     "output_type": "execute_result"
    }
   ],
   "source": [
    "#How many?\n",
    "df1.isnull().sum()"
   ]
  },
  {
   "cell_type": "code",
   "execution_count": 63,
   "metadata": {},
   "outputs": [
    {
     "name": "stdout",
     "output_type": "stream",
     "text": [
      "<class 'pandas.core.frame.DataFrame'>\n",
      "DatetimeIndex: 4 entries, 2014-01-01 to 2014-01-04\n",
      "Freq: D\n",
      "Data columns (total 5 columns):\n",
      "A    4 non-null float64\n",
      "B    4 non-null float64\n",
      "C    4 non-null float64\n",
      "D    4 non-null float64\n",
      "E    2 non-null float64\n",
      "dtypes: float64(5)\n",
      "memory usage: 352.0 bytes\n"
     ]
    }
   ],
   "source": [
    "#Alternatively\n",
    "df1.info()"
   ]
  },
  {
   "cell_type": "markdown",
   "metadata": {
    "focus": false,
    "id": "74c34377-4b13-4562-9ef5-35ab50ee0a52",
    "slideshow": {
     "slide_type": "slide"
    }
   },
   "source": [
    "### Operations"
   ]
  },
  {
   "cell_type": "code",
   "execution_count": 33,
   "metadata": {},
   "outputs": [
    {
     "data": {
      "text/plain": [
       "A    1.676182\n",
       "B   -1.859662\n",
       "C   -0.089822\n",
       "D   -2.055824\n",
       "dtype: float64"
      ]
     },
     "execution_count": 33,
     "metadata": {},
     "output_type": "execute_result"
    }
   ],
   "source": [
    "df.sum()"
   ]
  },
  {
   "cell_type": "code",
   "execution_count": 87,
   "metadata": {},
   "outputs": [
    {
     "data": {
      "text/html": [
       "<div>\n",
       "<style>\n",
       "    .dataframe thead tr:only-child th {\n",
       "        text-align: right;\n",
       "    }\n",
       "\n",
       "    .dataframe thead th {\n",
       "        text-align: left;\n",
       "    }\n",
       "\n",
       "    .dataframe tbody tr th {\n",
       "        vertical-align: top;\n",
       "    }\n",
       "</style>\n",
       "<table border=\"1\" class=\"dataframe\">\n",
       "  <thead>\n",
       "    <tr style=\"text-align: right;\">\n",
       "      <th></th>\n",
       "      <th>A</th>\n",
       "      <th>B</th>\n",
       "      <th>C</th>\n",
       "      <th>D</th>\n",
       "    </tr>\n",
       "  </thead>\n",
       "  <tbody>\n",
       "    <tr>\n",
       "      <th>2014-01-01</th>\n",
       "      <td>1.526642</td>\n",
       "      <td>1.056367</td>\n",
       "      <td>0.261044</td>\n",
       "      <td>0.072560</td>\n",
       "    </tr>\n",
       "    <tr>\n",
       "      <th>2014-01-02</th>\n",
       "      <td>0.322615</td>\n",
       "      <td>0.162695</td>\n",
       "      <td>0.753664</td>\n",
       "      <td>0.590634</td>\n",
       "    </tr>\n",
       "    <tr>\n",
       "      <th>2014-01-03</th>\n",
       "      <td>0.215158</td>\n",
       "      <td>0.392882</td>\n",
       "      <td>0.858539</td>\n",
       "      <td>1.952988</td>\n",
       "    </tr>\n",
       "    <tr>\n",
       "      <th>2014-01-04</th>\n",
       "      <td>0.768338</td>\n",
       "      <td>2.215082</td>\n",
       "      <td>0.829841</td>\n",
       "      <td>1.772364</td>\n",
       "    </tr>\n",
       "    <tr>\n",
       "      <th>2014-01-05</th>\n",
       "      <td>1.024821</td>\n",
       "      <td>0.901176</td>\n",
       "      <td>1.342059</td>\n",
       "      <td>0.075436</td>\n",
       "    </tr>\n",
       "    <tr>\n",
       "      <th>2014-01-06</th>\n",
       "      <td>0.943796</td>\n",
       "      <td>1.757387</td>\n",
       "      <td>0.266227</td>\n",
       "      <td>1.136569</td>\n",
       "    </tr>\n",
       "  </tbody>\n",
       "</table>\n",
       "</div>"
      ],
      "text/plain": [
       "                   A         B         C         D\n",
       "2014-01-01  1.526642  1.056367  0.261044  0.072560\n",
       "2014-01-02  0.322615  0.162695  0.753664  0.590634\n",
       "2014-01-03  0.215158  0.392882  0.858539  1.952988\n",
       "2014-01-04  0.768338  2.215082  0.829841  1.772364\n",
       "2014-01-05  1.024821  0.901176  1.342059  0.075436\n",
       "2014-01-06  0.943796  1.757387  0.266227  1.136569"
      ]
     },
     "execution_count": 87,
     "metadata": {},
     "output_type": "execute_result"
    }
   ],
   "source": [
    "df.abs()"
   ]
  },
  {
   "cell_type": "code",
   "execution_count": 88,
   "metadata": {},
   "outputs": [
    {
     "data": {
      "text/html": [
       "<div>\n",
       "<style>\n",
       "    .dataframe thead tr:only-child th {\n",
       "        text-align: right;\n",
       "    }\n",
       "\n",
       "    .dataframe thead th {\n",
       "        text-align: left;\n",
       "    }\n",
       "\n",
       "    .dataframe tbody tr th {\n",
       "        vertical-align: top;\n",
       "    }\n",
       "</style>\n",
       "<table border=\"1\" class=\"dataframe\">\n",
       "  <thead>\n",
       "    <tr style=\"text-align: right;\">\n",
       "      <th></th>\n",
       "      <th>A</th>\n",
       "      <th>B</th>\n",
       "      <th>C</th>\n",
       "      <th>D</th>\n",
       "    </tr>\n",
       "  </thead>\n",
       "  <tbody>\n",
       "    <tr>\n",
       "      <th>2014-01-01</th>\n",
       "      <td>1.526642</td>\n",
       "      <td>1.056367</td>\n",
       "      <td>0.261044</td>\n",
       "      <td>0.072560</td>\n",
       "    </tr>\n",
       "    <tr>\n",
       "      <th>2014-01-02</th>\n",
       "      <td>0.322615</td>\n",
       "      <td>0.162695</td>\n",
       "      <td>0.753664</td>\n",
       "      <td>0.590634</td>\n",
       "    </tr>\n",
       "    <tr>\n",
       "      <th>2014-01-03</th>\n",
       "      <td>0.215158</td>\n",
       "      <td>0.392882</td>\n",
       "      <td>0.858539</td>\n",
       "      <td>1.952988</td>\n",
       "    </tr>\n",
       "    <tr>\n",
       "      <th>2014-01-04</th>\n",
       "      <td>0.768338</td>\n",
       "      <td>2.215082</td>\n",
       "      <td>0.829841</td>\n",
       "      <td>1.772364</td>\n",
       "    </tr>\n",
       "    <tr>\n",
       "      <th>2014-01-05</th>\n",
       "      <td>1.024821</td>\n",
       "      <td>0.901176</td>\n",
       "      <td>1.342059</td>\n",
       "      <td>0.075436</td>\n",
       "    </tr>\n",
       "    <tr>\n",
       "      <th>2014-01-06</th>\n",
       "      <td>0.943796</td>\n",
       "      <td>1.757387</td>\n",
       "      <td>0.266227</td>\n",
       "      <td>1.136569</td>\n",
       "    </tr>\n",
       "  </tbody>\n",
       "</table>\n",
       "</div>"
      ],
      "text/plain": [
       "                   A         B         C         D\n",
       "2014-01-01  1.526642  1.056367  0.261044  0.072560\n",
       "2014-01-02  0.322615  0.162695  0.753664  0.590634\n",
       "2014-01-03  0.215158  0.392882  0.858539  1.952988\n",
       "2014-01-04  0.768338  2.215082  0.829841  1.772364\n",
       "2014-01-05  1.024821  0.901176  1.342059  0.075436\n",
       "2014-01-06  0.943796  1.757387  0.266227  1.136569"
      ]
     },
     "execution_count": 88,
     "metadata": {},
     "output_type": "execute_result"
    }
   ],
   "source": [
    "#Combining both numpy AND pandas\n",
    "np.sqrt(df**2)"
   ]
  },
  {
   "cell_type": "code",
   "execution_count": 55,
   "metadata": {},
   "outputs": [
    {
     "data": {
      "text/plain": [
       "(A    1.005776\n",
       " B    0.990474\n",
       " C    1.652812\n",
       " D    1.080384\n",
       " F    1.581139\n",
       " dtype: float64, 2014-01-01    0.915831\n",
       " 2014-01-02    0.864860\n",
       " 2014-01-03    1.387454\n",
       " 2014-01-04    1.711775\n",
       " 2014-01-05    2.147586\n",
       " 2014-01-06    2.781207\n",
       " Freq: D, dtype: float64)"
      ]
     },
     "execution_count": 55,
     "metadata": {},
     "output_type": "execute_result"
    }
   ],
   "source": [
    "df.std(),df.std(1) # Operation on two different axes"
   ]
  },
  {
   "cell_type": "markdown",
   "metadata": {
    "focus": false,
    "id": "aefd18b0-3fc6-4b15-bd6f-dd18136547a1",
    "slideshow": {
     "slide_type": "slide"
    }
   },
   "source": [
    "### Applying functions"
   ]
  },
  {
   "cell_type": "code",
   "execution_count": 56,
   "metadata": {
    "focus": false,
    "id": "1b4b693d-27fe-4eb4-8aa4-4b2a4c27a1a2",
    "slideshow": {
     "slide_type": "subslide"
    }
   },
   "outputs": [
    {
     "data": {
      "text/html": [
       "<div>\n",
       "<style>\n",
       "    .dataframe thead tr:only-child th {\n",
       "        text-align: right;\n",
       "    }\n",
       "\n",
       "    .dataframe thead th {\n",
       "        text-align: left;\n",
       "    }\n",
       "\n",
       "    .dataframe tbody tr th {\n",
       "        vertical-align: top;\n",
       "    }\n",
       "</style>\n",
       "<table border=\"1\" class=\"dataframe\">\n",
       "  <thead>\n",
       "    <tr style=\"text-align: right;\">\n",
       "      <th></th>\n",
       "      <th>A</th>\n",
       "      <th>B</th>\n",
       "      <th>C</th>\n",
       "      <th>D</th>\n",
       "      <th>F</th>\n",
       "    </tr>\n",
       "  </thead>\n",
       "  <tbody>\n",
       "    <tr>\n",
       "      <th>2014-01-01</th>\n",
       "      <td>-0.048496</td>\n",
       "      <td>-1.273812</td>\n",
       "      <td>0.925128</td>\n",
       "      <td>0.210164</td>\n",
       "      <td>NaN</td>\n",
       "    </tr>\n",
       "    <tr>\n",
       "      <th>2014-01-02</th>\n",
       "      <td>0.980316</td>\n",
       "      <td>-0.544368</td>\n",
       "      <td>1.852774</td>\n",
       "      <td>0.906805</td>\n",
       "      <td>1.0</td>\n",
       "    </tr>\n",
       "    <tr>\n",
       "      <th>2014-01-03</th>\n",
       "      <td>0.368769</td>\n",
       "      <td>1.388155</td>\n",
       "      <td>2.457488</td>\n",
       "      <td>-1.008777</td>\n",
       "      <td>2.0</td>\n",
       "    </tr>\n",
       "    <tr>\n",
       "      <th>2014-01-04</th>\n",
       "      <td>-0.212609</td>\n",
       "      <td>0.187066</td>\n",
       "      <td>0.371853</td>\n",
       "      <td>-1.737735</td>\n",
       "      <td>3.0</td>\n",
       "    </tr>\n",
       "    <tr>\n",
       "      <th>2014-01-05</th>\n",
       "      <td>-1.497165</td>\n",
       "      <td>-0.865812</td>\n",
       "      <td>0.129452</td>\n",
       "      <td>0.966884</td>\n",
       "      <td>4.0</td>\n",
       "    </tr>\n",
       "    <tr>\n",
       "      <th>2014-01-06</th>\n",
       "      <td>1.348693</td>\n",
       "      <td>-1.012099</td>\n",
       "      <td>-2.274584</td>\n",
       "      <td>0.187387</td>\n",
       "      <td>5.0</td>\n",
       "    </tr>\n",
       "  </tbody>\n",
       "</table>\n",
       "</div>"
      ],
      "text/plain": [
       "                   A         B         C         D    F\n",
       "2014-01-01 -0.048496 -1.273812  0.925128  0.210164  NaN\n",
       "2014-01-02  0.980316 -0.544368  1.852774  0.906805  1.0\n",
       "2014-01-03  0.368769  1.388155  2.457488 -1.008777  2.0\n",
       "2014-01-04 -0.212609  0.187066  0.371853 -1.737735  3.0\n",
       "2014-01-05 -1.497165 -0.865812  0.129452  0.966884  4.0\n",
       "2014-01-06  1.348693 -1.012099 -2.274584  0.187387  5.0"
      ]
     },
     "execution_count": 56,
     "metadata": {},
     "output_type": "execute_result"
    }
   ],
   "source": [
    "df"
   ]
  },
  {
   "cell_type": "code",
   "execution_count": 57,
   "metadata": {
    "focus": false,
    "id": "acb5d0e0-b6f8-4dc3-8f42-e2ca34a6aa67",
    "slideshow": {
     "slide_type": "fragment"
    }
   },
   "outputs": [
    {
     "data": {
      "text/html": [
       "<div>\n",
       "<style>\n",
       "    .dataframe thead tr:only-child th {\n",
       "        text-align: right;\n",
       "    }\n",
       "\n",
       "    .dataframe thead th {\n",
       "        text-align: left;\n",
       "    }\n",
       "\n",
       "    .dataframe tbody tr th {\n",
       "        vertical-align: top;\n",
       "    }\n",
       "</style>\n",
       "<table border=\"1\" class=\"dataframe\">\n",
       "  <thead>\n",
       "    <tr style=\"text-align: right;\">\n",
       "      <th></th>\n",
       "      <th>A</th>\n",
       "      <th>B</th>\n",
       "      <th>C</th>\n",
       "      <th>D</th>\n",
       "      <th>F</th>\n",
       "    </tr>\n",
       "  </thead>\n",
       "  <tbody>\n",
       "    <tr>\n",
       "      <th>2014-01-01</th>\n",
       "      <td>-0.048496</td>\n",
       "      <td>-1.273812</td>\n",
       "      <td>0.925128</td>\n",
       "      <td>0.210164</td>\n",
       "      <td>NaN</td>\n",
       "    </tr>\n",
       "    <tr>\n",
       "      <th>2014-01-02</th>\n",
       "      <td>0.931820</td>\n",
       "      <td>-1.818180</td>\n",
       "      <td>2.777903</td>\n",
       "      <td>1.116969</td>\n",
       "      <td>1.0</td>\n",
       "    </tr>\n",
       "    <tr>\n",
       "      <th>2014-01-03</th>\n",
       "      <td>1.300588</td>\n",
       "      <td>-0.430025</td>\n",
       "      <td>5.235390</td>\n",
       "      <td>0.108192</td>\n",
       "      <td>3.0</td>\n",
       "    </tr>\n",
       "    <tr>\n",
       "      <th>2014-01-04</th>\n",
       "      <td>1.087979</td>\n",
       "      <td>-0.242960</td>\n",
       "      <td>5.607243</td>\n",
       "      <td>-1.629543</td>\n",
       "      <td>6.0</td>\n",
       "    </tr>\n",
       "    <tr>\n",
       "      <th>2014-01-05</th>\n",
       "      <td>-0.409186</td>\n",
       "      <td>-1.108771</td>\n",
       "      <td>5.736696</td>\n",
       "      <td>-0.662659</td>\n",
       "      <td>10.0</td>\n",
       "    </tr>\n",
       "    <tr>\n",
       "      <th>2014-01-06</th>\n",
       "      <td>0.939507</td>\n",
       "      <td>-2.120870</td>\n",
       "      <td>3.462112</td>\n",
       "      <td>-0.475271</td>\n",
       "      <td>15.0</td>\n",
       "    </tr>\n",
       "  </tbody>\n",
       "</table>\n",
       "</div>"
      ],
      "text/plain": [
       "                   A         B         C         D     F\n",
       "2014-01-01 -0.048496 -1.273812  0.925128  0.210164   NaN\n",
       "2014-01-02  0.931820 -1.818180  2.777903  1.116969   1.0\n",
       "2014-01-03  1.300588 -0.430025  5.235390  0.108192   3.0\n",
       "2014-01-04  1.087979 -0.242960  5.607243 -1.629543   6.0\n",
       "2014-01-05 -0.409186 -1.108771  5.736696 -0.662659  10.0\n",
       "2014-01-06  0.939507 -2.120870  3.462112 -0.475271  15.0"
      ]
     },
     "execution_count": 57,
     "metadata": {},
     "output_type": "execute_result"
    }
   ],
   "source": [
    "df.apply(np.cumsum)"
   ]
  },
  {
   "cell_type": "code",
   "execution_count": 64,
   "metadata": {
    "focus": false,
    "id": "76608f05-bac8-4938-b1c5-efa228fcbb7b",
    "slideshow": {
     "slide_type": "fragment"
    }
   },
   "outputs": [
    {
     "ename": "AttributeError",
     "evalue": "Can only use .str accessor with string values, which use np.object_ dtype in pandas",
     "output_type": "error",
     "traceback": [
      "\u001b[0;31m---------------------------------------------------------------------------\u001b[0m",
      "\u001b[0;31mAttributeError\u001b[0m                            Traceback (most recent call last)",
      "\u001b[0;32m<ipython-input-64-d387e0b054a2>\u001b[0m in \u001b[0;36m<module>\u001b[0;34m()\u001b[0m\n\u001b[0;32m----> 1\u001b[0;31m \u001b[0mdf\u001b[0m\u001b[0;34m[\u001b[0m\u001b[0;34m'A'\u001b[0m\u001b[0;34m]\u001b[0m\u001b[0;34m.\u001b[0m\u001b[0mstr\u001b[0m\u001b[0;34m.\u001b[0m\u001b[0mlower\u001b[0m\u001b[0;34m(\u001b[0m\u001b[0;34m)\u001b[0m\u001b[0;34m\u001b[0m\u001b[0m\n\u001b[0m",
      "\u001b[0;32m/home/ga/anaconda2/lib/python2.7/site-packages/pandas/core/generic.pyc\u001b[0m in \u001b[0;36m__getattr__\u001b[0;34m(self, name)\u001b[0m\n\u001b[1;32m   3075\u001b[0m         if (name in self._internal_names_set or name in self._metadata or\n\u001b[1;32m   3076\u001b[0m                 name in self._accessors):\n\u001b[0;32m-> 3077\u001b[0;31m             \u001b[0;32mreturn\u001b[0m \u001b[0mobject\u001b[0m\u001b[0;34m.\u001b[0m\u001b[0m__getattribute__\u001b[0m\u001b[0;34m(\u001b[0m\u001b[0mself\u001b[0m\u001b[0;34m,\u001b[0m \u001b[0mname\u001b[0m\u001b[0;34m)\u001b[0m\u001b[0;34m\u001b[0m\u001b[0m\n\u001b[0m\u001b[1;32m   3078\u001b[0m         \u001b[0;32melse\u001b[0m\u001b[0;34m:\u001b[0m\u001b[0;34m\u001b[0m\u001b[0m\n\u001b[1;32m   3079\u001b[0m             \u001b[0;32mif\u001b[0m \u001b[0mname\u001b[0m \u001b[0;32min\u001b[0m \u001b[0mself\u001b[0m\u001b[0;34m.\u001b[0m\u001b[0m_info_axis\u001b[0m\u001b[0;34m:\u001b[0m\u001b[0;34m\u001b[0m\u001b[0m\n",
      "\u001b[0;32m/home/ga/anaconda2/lib/python2.7/site-packages/pandas/core/base.pyc\u001b[0m in \u001b[0;36m__get__\u001b[0;34m(self, instance, owner)\u001b[0m\n\u001b[1;32m    241\u001b[0m             \u001b[0;31m# this ensures that Series.str.<method> is well defined\u001b[0m\u001b[0;34m\u001b[0m\u001b[0;34m\u001b[0m\u001b[0m\n\u001b[1;32m    242\u001b[0m             \u001b[0;32mreturn\u001b[0m \u001b[0mself\u001b[0m\u001b[0;34m.\u001b[0m\u001b[0maccessor_cls\u001b[0m\u001b[0;34m\u001b[0m\u001b[0m\n\u001b[0;32m--> 243\u001b[0;31m         \u001b[0;32mreturn\u001b[0m \u001b[0mself\u001b[0m\u001b[0;34m.\u001b[0m\u001b[0mconstruct_accessor\u001b[0m\u001b[0;34m(\u001b[0m\u001b[0minstance\u001b[0m\u001b[0;34m)\u001b[0m\u001b[0;34m\u001b[0m\u001b[0m\n\u001b[0m\u001b[1;32m    244\u001b[0m \u001b[0;34m\u001b[0m\u001b[0m\n\u001b[1;32m    245\u001b[0m     \u001b[0;32mdef\u001b[0m \u001b[0m__set__\u001b[0m\u001b[0;34m(\u001b[0m\u001b[0mself\u001b[0m\u001b[0;34m,\u001b[0m \u001b[0minstance\u001b[0m\u001b[0;34m,\u001b[0m \u001b[0mvalue\u001b[0m\u001b[0;34m)\u001b[0m\u001b[0;34m:\u001b[0m\u001b[0;34m\u001b[0m\u001b[0m\n",
      "\u001b[0;32m/home/ga/anaconda2/lib/python2.7/site-packages/pandas/core/strings.pyc\u001b[0m in \u001b[0;36m_make_str_accessor\u001b[0;34m(self)\u001b[0m\n\u001b[1;32m   1907\u001b[0m             \u001b[0;31m# (instead of test for object dtype), but that isn't practical for\u001b[0m\u001b[0;34m\u001b[0m\u001b[0;34m\u001b[0m\u001b[0m\n\u001b[1;32m   1908\u001b[0m             \u001b[0;31m# performance reasons until we have a str dtype (GH 9343)\u001b[0m\u001b[0;34m\u001b[0m\u001b[0;34m\u001b[0m\u001b[0m\n\u001b[0;32m-> 1909\u001b[0;31m             raise AttributeError(\"Can only use .str accessor with string \"\n\u001b[0m\u001b[1;32m   1910\u001b[0m                                  \u001b[0;34m\"values, which use np.object_ dtype in \"\u001b[0m\u001b[0;34m\u001b[0m\u001b[0m\n\u001b[1;32m   1911\u001b[0m                                  \"pandas\")\n",
      "\u001b[0;31mAttributeError\u001b[0m: Can only use .str accessor with string values, which use np.object_ dtype in pandas"
     ]
    }
   ],
   "source": [
    "df['A'].str.lower()"
   ]
  },
  {
   "cell_type": "code",
   "execution_count": 97,
   "metadata": {
    "focus": false,
    "id": "802ec78f-0525-40e0-ab4e-4600eb22b1ed",
    "slideshow": {
     "slide_type": "subslide"
    }
   },
   "outputs": [
    {
     "data": {
      "text/plain": [
       "0       a\n",
       "1       b\n",
       "2       c\n",
       "3    aaba\n",
       "4    baca\n",
       "5     NaN\n",
       "6    caba\n",
       "7     dog\n",
       "8     cat\n",
       "dtype: object"
      ]
     },
     "execution_count": 97,
     "metadata": {},
     "output_type": "execute_result"
    }
   ],
   "source": [
    "# Built in string methods\n",
    "s = pd.Series(['A', 'B', 'C', 'Aaba', 'Baca', np.nan, 'CABA', 'dog', 'cat'])\n",
    "s.str.lower()"
   ]
  },
  {
   "cell_type": "markdown",
   "metadata": {
    "focus": false,
    "id": "ce36d58b-a2b3-4fb0-b21d-d8e40425d203",
    "slideshow": {
     "slide_type": "subslide"
    }
   },
   "source": [
    "### Concatination"
   ]
  },
  {
   "cell_type": "code",
   "execution_count": 98,
   "metadata": {
    "focus": false,
    "id": "5a03c068-8ce7-4bc2-a25a-ed1744d56765",
    "slideshow": {
     "slide_type": "subslide"
    }
   },
   "outputs": [
    {
     "data": {
      "text/plain": [
       "array([[-0.23087368,  0.30634153,  1.3390809 ,  0.20126746],\n",
       "       [-1.20466804,  0.37818392,  0.78502404,  0.72480311],\n",
       "       [ 0.48651259,  0.15649685,  0.74349144, -1.00546315],\n",
       "       [-1.31404969,  1.05792108, -0.84519592,  0.61755247],\n",
       "       [ 0.3049107 , -0.74761535,  1.14187834,  1.22756517],\n",
       "       [-1.74211033,  0.19406159, -0.00325876,  1.45541327],\n",
       "       [-0.21687543, -0.29607426, -0.20719582,  0.15226072],\n",
       "       [ 0.94240337,  1.48971852,  1.81607351,  1.38876318],\n",
       "       [ 1.21140686, -0.4422771 , -1.81969077, -0.27841073],\n",
       "       [ 0.05861619, -0.68984229, -0.97168473,  1.1845709 ]])"
      ]
     },
     "execution_count": 98,
     "metadata": {},
     "output_type": "execute_result"
    }
   ],
   "source": [
    "np.random.randn(10,4)"
   ]
  },
  {
   "cell_type": "code",
   "execution_count": 99,
   "metadata": {
    "focus": false,
    "id": "54d4be63-ab84-4c0c-8c87-a4bf1affb1ec",
    "scrolled": true,
    "slideshow": {
     "slide_type": "subslide"
    }
   },
   "outputs": [
    {
     "data": {
      "text/html": [
       "<div>\n",
       "<style>\n",
       "    .dataframe thead tr:only-child th {\n",
       "        text-align: right;\n",
       "    }\n",
       "\n",
       "    .dataframe thead th {\n",
       "        text-align: left;\n",
       "    }\n",
       "\n",
       "    .dataframe tbody tr th {\n",
       "        vertical-align: top;\n",
       "    }\n",
       "</style>\n",
       "<table border=\"1\" class=\"dataframe\">\n",
       "  <thead>\n",
       "    <tr style=\"text-align: right;\">\n",
       "      <th></th>\n",
       "      <th>0</th>\n",
       "      <th>1</th>\n",
       "      <th>2</th>\n",
       "      <th>3</th>\n",
       "    </tr>\n",
       "  </thead>\n",
       "  <tbody>\n",
       "    <tr>\n",
       "      <th>0</th>\n",
       "      <td>-1.849619</td>\n",
       "      <td>0.164610</td>\n",
       "      <td>0.116809</td>\n",
       "      <td>1.120152</td>\n",
       "    </tr>\n",
       "    <tr>\n",
       "      <th>1</th>\n",
       "      <td>0.934852</td>\n",
       "      <td>0.619090</td>\n",
       "      <td>-0.408814</td>\n",
       "      <td>-0.967300</td>\n",
       "    </tr>\n",
       "    <tr>\n",
       "      <th>2</th>\n",
       "      <td>-1.912836</td>\n",
       "      <td>0.136191</td>\n",
       "      <td>-1.018770</td>\n",
       "      <td>-1.054325</td>\n",
       "    </tr>\n",
       "    <tr>\n",
       "      <th>3</th>\n",
       "      <td>-0.521659</td>\n",
       "      <td>1.869238</td>\n",
       "      <td>0.833172</td>\n",
       "      <td>-1.328757</td>\n",
       "    </tr>\n",
       "    <tr>\n",
       "      <th>4</th>\n",
       "      <td>-1.135315</td>\n",
       "      <td>3.011221</td>\n",
       "      <td>-0.193525</td>\n",
       "      <td>-0.153465</td>\n",
       "    </tr>\n",
       "    <tr>\n",
       "      <th>5</th>\n",
       "      <td>0.330113</td>\n",
       "      <td>-1.372947</td>\n",
       "      <td>-1.022102</td>\n",
       "      <td>1.935032</td>\n",
       "    </tr>\n",
       "    <tr>\n",
       "      <th>6</th>\n",
       "      <td>-0.450908</td>\n",
       "      <td>-0.384946</td>\n",
       "      <td>-0.143508</td>\n",
       "      <td>-0.919469</td>\n",
       "    </tr>\n",
       "    <tr>\n",
       "      <th>7</th>\n",
       "      <td>1.807882</td>\n",
       "      <td>0.401354</td>\n",
       "      <td>-0.731408</td>\n",
       "      <td>-0.002333</td>\n",
       "    </tr>\n",
       "    <tr>\n",
       "      <th>8</th>\n",
       "      <td>-1.106339</td>\n",
       "      <td>0.890917</td>\n",
       "      <td>0.892086</td>\n",
       "      <td>1.250441</td>\n",
       "    </tr>\n",
       "    <tr>\n",
       "      <th>9</th>\n",
       "      <td>-0.539113</td>\n",
       "      <td>1.342341</td>\n",
       "      <td>-0.881583</td>\n",
       "      <td>-2.546182</td>\n",
       "    </tr>\n",
       "  </tbody>\n",
       "</table>\n",
       "</div>"
      ],
      "text/plain": [
       "          0         1         2         3\n",
       "0 -1.849619  0.164610  0.116809  1.120152\n",
       "1  0.934852  0.619090 -0.408814 -0.967300\n",
       "2 -1.912836  0.136191 -1.018770 -1.054325\n",
       "3 -0.521659  1.869238  0.833172 -1.328757\n",
       "4 -1.135315  3.011221 -0.193525 -0.153465\n",
       "5  0.330113 -1.372947 -1.022102  1.935032\n",
       "6 -0.450908 -0.384946 -0.143508 -0.919469\n",
       "7  1.807882  0.401354 -0.731408 -0.002333\n",
       "8 -1.106339  0.890917  0.892086  1.250441\n",
       "9 -0.539113  1.342341 -0.881583 -2.546182"
      ]
     },
     "execution_count": 99,
     "metadata": {},
     "output_type": "execute_result"
    }
   ],
   "source": [
    "#Concatenating pandas objects together\n",
    "df = pd.DataFrame(np.random.randn(10,4))\n",
    "df"
   ]
  },
  {
   "cell_type": "code",
   "execution_count": 100,
   "metadata": {
    "focus": false,
    "id": "f39f64e5-7416-4067-867d-93d36674c19b",
    "slideshow": {
     "slide_type": "subslide"
    }
   },
   "outputs": [
    {
     "data": {
      "text/plain": [
       "[          0         1         2         3\n",
       " 0 -1.849619  0.164610  0.116809  1.120152\n",
       " 1  0.934852  0.619090 -0.408814 -0.967300\n",
       " 2 -1.912836  0.136191 -1.018770 -1.054325,\n",
       "           0         1         2         3\n",
       " 3 -0.521659  1.869238  0.833172 -1.328757\n",
       " 4 -1.135315  3.011221 -0.193525 -0.153465\n",
       " 5  0.330113 -1.372947 -1.022102  1.935032\n",
       " 6 -0.450908 -0.384946 -0.143508 -0.919469,\n",
       "           0         1         2         3\n",
       " 7  1.807882  0.401354 -0.731408 -0.002333\n",
       " 8 -1.106339  0.890917  0.892086  1.250441\n",
       " 9 -0.539113  1.342341 -0.881583 -2.546182]"
      ]
     },
     "execution_count": 100,
     "metadata": {},
     "output_type": "execute_result"
    }
   ],
   "source": [
    "# Break it into pieces\n",
    "pieces = [df[:3], df[3:7],df[7:]]\n",
    "pieces"
   ]
  },
  {
   "cell_type": "code",
   "execution_count": 101,
   "metadata": {
    "focus": false,
    "id": "1b3617e6-0a0e-4f0a-b8a1-8715c961aa8f",
    "slideshow": {
     "slide_type": "fragment"
    }
   },
   "outputs": [
    {
     "data": {
      "text/html": [
       "<div>\n",
       "<style>\n",
       "    .dataframe thead tr:only-child th {\n",
       "        text-align: right;\n",
       "    }\n",
       "\n",
       "    .dataframe thead th {\n",
       "        text-align: left;\n",
       "    }\n",
       "\n",
       "    .dataframe tbody tr th {\n",
       "        vertical-align: top;\n",
       "    }\n",
       "</style>\n",
       "<table border=\"1\" class=\"dataframe\">\n",
       "  <thead>\n",
       "    <tr style=\"text-align: right;\">\n",
       "      <th></th>\n",
       "      <th>0</th>\n",
       "      <th>1</th>\n",
       "      <th>2</th>\n",
       "      <th>3</th>\n",
       "    </tr>\n",
       "  </thead>\n",
       "  <tbody>\n",
       "    <tr>\n",
       "      <th>0</th>\n",
       "      <td>-1.849619</td>\n",
       "      <td>0.164610</td>\n",
       "      <td>0.116809</td>\n",
       "      <td>1.120152</td>\n",
       "    </tr>\n",
       "    <tr>\n",
       "      <th>1</th>\n",
       "      <td>0.934852</td>\n",
       "      <td>0.619090</td>\n",
       "      <td>-0.408814</td>\n",
       "      <td>-0.967300</td>\n",
       "    </tr>\n",
       "    <tr>\n",
       "      <th>2</th>\n",
       "      <td>-1.912836</td>\n",
       "      <td>0.136191</td>\n",
       "      <td>-1.018770</td>\n",
       "      <td>-1.054325</td>\n",
       "    </tr>\n",
       "    <tr>\n",
       "      <th>3</th>\n",
       "      <td>-0.521659</td>\n",
       "      <td>1.869238</td>\n",
       "      <td>0.833172</td>\n",
       "      <td>-1.328757</td>\n",
       "    </tr>\n",
       "    <tr>\n",
       "      <th>4</th>\n",
       "      <td>-1.135315</td>\n",
       "      <td>3.011221</td>\n",
       "      <td>-0.193525</td>\n",
       "      <td>-0.153465</td>\n",
       "    </tr>\n",
       "    <tr>\n",
       "      <th>5</th>\n",
       "      <td>0.330113</td>\n",
       "      <td>-1.372947</td>\n",
       "      <td>-1.022102</td>\n",
       "      <td>1.935032</td>\n",
       "    </tr>\n",
       "    <tr>\n",
       "      <th>6</th>\n",
       "      <td>-0.450908</td>\n",
       "      <td>-0.384946</td>\n",
       "      <td>-0.143508</td>\n",
       "      <td>-0.919469</td>\n",
       "    </tr>\n",
       "    <tr>\n",
       "      <th>7</th>\n",
       "      <td>1.807882</td>\n",
       "      <td>0.401354</td>\n",
       "      <td>-0.731408</td>\n",
       "      <td>-0.002333</td>\n",
       "    </tr>\n",
       "    <tr>\n",
       "      <th>8</th>\n",
       "      <td>-1.106339</td>\n",
       "      <td>0.890917</td>\n",
       "      <td>0.892086</td>\n",
       "      <td>1.250441</td>\n",
       "    </tr>\n",
       "    <tr>\n",
       "      <th>9</th>\n",
       "      <td>-0.539113</td>\n",
       "      <td>1.342341</td>\n",
       "      <td>-0.881583</td>\n",
       "      <td>-2.546182</td>\n",
       "    </tr>\n",
       "  </tbody>\n",
       "</table>\n",
       "</div>"
      ],
      "text/plain": [
       "          0         1         2         3\n",
       "0 -1.849619  0.164610  0.116809  1.120152\n",
       "1  0.934852  0.619090 -0.408814 -0.967300\n",
       "2 -1.912836  0.136191 -1.018770 -1.054325\n",
       "3 -0.521659  1.869238  0.833172 -1.328757\n",
       "4 -1.135315  3.011221 -0.193525 -0.153465\n",
       "5  0.330113 -1.372947 -1.022102  1.935032\n",
       "6 -0.450908 -0.384946 -0.143508 -0.919469\n",
       "7  1.807882  0.401354 -0.731408 -0.002333\n",
       "8 -1.106339  0.890917  0.892086  1.250441\n",
       "9 -0.539113  1.342341 -0.881583 -2.546182"
      ]
     },
     "execution_count": 101,
     "metadata": {},
     "output_type": "execute_result"
    }
   ],
   "source": [
    "pd.concat(pieces[0:3])"
   ]
  },
  {
   "cell_type": "code",
   "execution_count": 102,
   "metadata": {},
   "outputs": [
    {
     "data": {
      "text/html": [
       "<div>\n",
       "<style>\n",
       "    .dataframe thead tr:only-child th {\n",
       "        text-align: right;\n",
       "    }\n",
       "\n",
       "    .dataframe thead th {\n",
       "        text-align: left;\n",
       "    }\n",
       "\n",
       "    .dataframe tbody tr th {\n",
       "        vertical-align: top;\n",
       "    }\n",
       "</style>\n",
       "<table border=\"1\" class=\"dataframe\">\n",
       "  <thead>\n",
       "    <tr style=\"text-align: right;\">\n",
       "      <th></th>\n",
       "      <th>0</th>\n",
       "      <th>1</th>\n",
       "      <th>2</th>\n",
       "      <th>3</th>\n",
       "    </tr>\n",
       "  </thead>\n",
       "  <tbody>\n",
       "    <tr>\n",
       "      <th>0</th>\n",
       "      <td>-1.849619</td>\n",
       "      <td>0.164610</td>\n",
       "      <td>0.116809</td>\n",
       "      <td>1.120152</td>\n",
       "    </tr>\n",
       "    <tr>\n",
       "      <th>1</th>\n",
       "      <td>0.934852</td>\n",
       "      <td>0.619090</td>\n",
       "      <td>-0.408814</td>\n",
       "      <td>-0.967300</td>\n",
       "    </tr>\n",
       "    <tr>\n",
       "      <th>2</th>\n",
       "      <td>-1.912836</td>\n",
       "      <td>0.136191</td>\n",
       "      <td>-1.018770</td>\n",
       "      <td>-1.054325</td>\n",
       "    </tr>\n",
       "    <tr>\n",
       "      <th>7</th>\n",
       "      <td>1.807882</td>\n",
       "      <td>0.401354</td>\n",
       "      <td>-0.731408</td>\n",
       "      <td>-0.002333</td>\n",
       "    </tr>\n",
       "    <tr>\n",
       "      <th>8</th>\n",
       "      <td>-1.106339</td>\n",
       "      <td>0.890917</td>\n",
       "      <td>0.892086</td>\n",
       "      <td>1.250441</td>\n",
       "    </tr>\n",
       "    <tr>\n",
       "      <th>9</th>\n",
       "      <td>-0.539113</td>\n",
       "      <td>1.342341</td>\n",
       "      <td>-0.881583</td>\n",
       "      <td>-2.546182</td>\n",
       "    </tr>\n",
       "  </tbody>\n",
       "</table>\n",
       "</div>"
      ],
      "text/plain": [
       "          0         1         2         3\n",
       "0 -1.849619  0.164610  0.116809  1.120152\n",
       "1  0.934852  0.619090 -0.408814 -0.967300\n",
       "2 -1.912836  0.136191 -1.018770 -1.054325\n",
       "7  1.807882  0.401354 -0.731408 -0.002333\n",
       "8 -1.106339  0.890917  0.892086  1.250441\n",
       "9 -0.539113  1.342341 -0.881583 -2.546182"
      ]
     },
     "execution_count": 102,
     "metadata": {},
     "output_type": "execute_result"
    }
   ],
   "source": [
    "pd.concat([pieces[0], pieces[2]])"
   ]
  },
  {
   "cell_type": "markdown",
   "metadata": {
    "focus": false,
    "id": "487ed85b-a5c7-436b-80ce-53b7c5e23948",
    "slideshow": {
     "slide_type": "fragment"
    }
   },
   "source": [
    "### Merging\n",
    "\n",
    "Merging is similar to database methods (eg. SQL).\n",
    "\n",
    "inner - keep rows that match\n",
    "\n",
    "outer - keep all\n",
    "\n",
    "left - Keep all rows from the left dataframe, add matching right rows and replace those missing with nan\n",
    "\n",
    "right - As above, just with the right dataframe\n",
    "\n",
    "<img src = \"https://static1.squarespace.com/static/54bb1957e4b04c160a32f928/t/5724fd0bf699bb5ad6432150/1462041871236/\">"
   ]
  },
  {
   "cell_type": "code",
   "execution_count": 103,
   "metadata": {},
   "outputs": [
    {
     "data": {
      "text/html": [
       "<div>\n",
       "<style>\n",
       "    .dataframe thead tr:only-child th {\n",
       "        text-align: right;\n",
       "    }\n",
       "\n",
       "    .dataframe thead th {\n",
       "        text-align: left;\n",
       "    }\n",
       "\n",
       "    .dataframe tbody tr th {\n",
       "        vertical-align: top;\n",
       "    }\n",
       "</style>\n",
       "<table border=\"1\" class=\"dataframe\">\n",
       "  <thead>\n",
       "    <tr style=\"text-align: right;\">\n",
       "      <th></th>\n",
       "      <th>connect</th>\n",
       "      <th>device</th>\n",
       "      <th>id</th>\n",
       "      <th>got_monkeys</th>\n",
       "      <th>suffix</th>\n",
       "    </tr>\n",
       "  </thead>\n",
       "  <tbody>\n",
       "    <tr>\n",
       "      <th>0</th>\n",
       "      <td>1</td>\n",
       "      <td>d1</td>\n",
       "      <td>1</td>\n",
       "      <td>NaN</td>\n",
       "      <td>NaN</td>\n",
       "    </tr>\n",
       "    <tr>\n",
       "      <th>1</th>\n",
       "      <td>0</td>\n",
       "      <td>d2</td>\n",
       "      <td>2</td>\n",
       "      <td>0.0</td>\n",
       "      <td>c</td>\n",
       "    </tr>\n",
       "    <tr>\n",
       "      <th>2</th>\n",
       "      <td>1</td>\n",
       "      <td>d3</td>\n",
       "      <td>3</td>\n",
       "      <td>NaN</td>\n",
       "      <td>NaN</td>\n",
       "    </tr>\n",
       "    <tr>\n",
       "      <th>3</th>\n",
       "      <td>1</td>\n",
       "      <td>d4</td>\n",
       "      <td>4</td>\n",
       "      <td>NaN</td>\n",
       "      <td>NaN</td>\n",
       "    </tr>\n",
       "    <tr>\n",
       "      <th>4</th>\n",
       "      <td>0</td>\n",
       "      <td>d5</td>\n",
       "      <td>5</td>\n",
       "      <td>1.0</td>\n",
       "      <td>d</td>\n",
       "    </tr>\n",
       "  </tbody>\n",
       "</table>\n",
       "</div>"
      ],
      "text/plain": [
       "   connect device  id  got_monkeys suffix\n",
       "0        1     d1   1          NaN    NaN\n",
       "1        0     d2   2          0.0      c\n",
       "2        1     d3   3          NaN    NaN\n",
       "3        1     d4   4          NaN    NaN\n",
       "4        0     d5   5          1.0      d"
      ]
     },
     "execution_count": 103,
     "metadata": {},
     "output_type": "execute_result"
    }
   ],
   "source": [
    "df1 = pd.DataFrame({'id': [1, 2, 3, 4, 5],\n",
    "                   'device': ['d1', 'd2', 'd3', 'd4', 'd5'],\n",
    "                   'connect': [1, 0, 1, 1, 0]\n",
    "                   })\n",
    "\n",
    "df2 = pd.DataFrame({'id': [2, 5],\n",
    "                   'suffix': ['c', 'd'],\n",
    "                   'got_monkeys': [0, 1]\n",
    "                   })\n",
    "\n",
    "\n",
    "pd.merge(df1, df2, how = 'left', on = 'id')"
   ]
  },
  {
   "cell_type": "markdown",
   "metadata": {
    "focus": false,
    "id": "d71e2439-0018-4564-a3c9-08b21df14f49",
    "slideshow": {
     "slide_type": "subslide"
    }
   },
   "source": [
    "### Grouping\n"
   ]
  },
  {
   "cell_type": "code",
   "execution_count": 104,
   "metadata": {
    "collapsed": true,
    "focus": false,
    "id": "fa9636d6-592b-4166-b440-ab7fccf1a617",
    "slideshow": {
     "slide_type": "subslide"
    }
   },
   "outputs": [],
   "source": [
    "df = pd.DataFrame({'A' : ['foo', 'bar', 'foo', 'bar',\n",
    "                       'foo', 'bar', 'foo', 'foo'],\n",
    "                       'B' : ['one', 'one', 'two', 'three',\n",
    "                             'two', 'two', 'one', 'three'],\n",
    "                       'C' : np.random.randn(8),\n",
    "                       'D' : np.random.randn(8)})"
   ]
  },
  {
   "cell_type": "code",
   "execution_count": 105,
   "metadata": {
    "focus": false,
    "id": "be026ca6-3b88-4e6c-935f-339089743711",
    "slideshow": {
     "slide_type": "fragment"
    }
   },
   "outputs": [
    {
     "data": {
      "text/html": [
       "<div>\n",
       "<style>\n",
       "    .dataframe thead tr:only-child th {\n",
       "        text-align: right;\n",
       "    }\n",
       "\n",
       "    .dataframe thead th {\n",
       "        text-align: left;\n",
       "    }\n",
       "\n",
       "    .dataframe tbody tr th {\n",
       "        vertical-align: top;\n",
       "    }\n",
       "</style>\n",
       "<table border=\"1\" class=\"dataframe\">\n",
       "  <thead>\n",
       "    <tr style=\"text-align: right;\">\n",
       "      <th></th>\n",
       "      <th>A</th>\n",
       "      <th>B</th>\n",
       "      <th>C</th>\n",
       "      <th>D</th>\n",
       "    </tr>\n",
       "  </thead>\n",
       "  <tbody>\n",
       "    <tr>\n",
       "      <th>0</th>\n",
       "      <td>foo</td>\n",
       "      <td>one</td>\n",
       "      <td>0.184917</td>\n",
       "      <td>-0.108043</td>\n",
       "    </tr>\n",
       "    <tr>\n",
       "      <th>1</th>\n",
       "      <td>bar</td>\n",
       "      <td>one</td>\n",
       "      <td>0.435301</td>\n",
       "      <td>-0.524566</td>\n",
       "    </tr>\n",
       "    <tr>\n",
       "      <th>2</th>\n",
       "      <td>foo</td>\n",
       "      <td>two</td>\n",
       "      <td>-0.143474</td>\n",
       "      <td>0.991786</td>\n",
       "    </tr>\n",
       "    <tr>\n",
       "      <th>3</th>\n",
       "      <td>bar</td>\n",
       "      <td>three</td>\n",
       "      <td>-1.786502</td>\n",
       "      <td>0.028355</td>\n",
       "    </tr>\n",
       "    <tr>\n",
       "      <th>4</th>\n",
       "      <td>foo</td>\n",
       "      <td>two</td>\n",
       "      <td>0.165898</td>\n",
       "      <td>-1.334645</td>\n",
       "    </tr>\n",
       "    <tr>\n",
       "      <th>5</th>\n",
       "      <td>bar</td>\n",
       "      <td>two</td>\n",
       "      <td>0.449375</td>\n",
       "      <td>-1.940525</td>\n",
       "    </tr>\n",
       "    <tr>\n",
       "      <th>6</th>\n",
       "      <td>foo</td>\n",
       "      <td>one</td>\n",
       "      <td>0.674095</td>\n",
       "      <td>0.510977</td>\n",
       "    </tr>\n",
       "    <tr>\n",
       "      <th>7</th>\n",
       "      <td>foo</td>\n",
       "      <td>three</td>\n",
       "      <td>-0.590683</td>\n",
       "      <td>-1.119788</td>\n",
       "    </tr>\n",
       "  </tbody>\n",
       "</table>\n",
       "</div>"
      ],
      "text/plain": [
       "     A      B         C         D\n",
       "0  foo    one  0.184917 -0.108043\n",
       "1  bar    one  0.435301 -0.524566\n",
       "2  foo    two -0.143474  0.991786\n",
       "3  bar  three -1.786502  0.028355\n",
       "4  foo    two  0.165898 -1.334645\n",
       "5  bar    two  0.449375 -1.940525\n",
       "6  foo    one  0.674095  0.510977\n",
       "7  foo  three -0.590683 -1.119788"
      ]
     },
     "execution_count": 105,
     "metadata": {},
     "output_type": "execute_result"
    }
   ],
   "source": [
    "df"
   ]
  },
  {
   "cell_type": "code",
   "execution_count": 106,
   "metadata": {
    "focus": false,
    "id": "20574670-3a23-4a2c-8b67-fbf3a9a7737e",
    "slideshow": {
     "slide_type": "fragment"
    }
   },
   "outputs": [
    {
     "data": {
      "text/html": [
       "<div>\n",
       "<style>\n",
       "    .dataframe thead tr:only-child th {\n",
       "        text-align: right;\n",
       "    }\n",
       "\n",
       "    .dataframe thead th {\n",
       "        text-align: left;\n",
       "    }\n",
       "\n",
       "    .dataframe tbody tr th {\n",
       "        vertical-align: top;\n",
       "    }\n",
       "</style>\n",
       "<table border=\"1\" class=\"dataframe\">\n",
       "  <thead>\n",
       "    <tr style=\"text-align: right;\">\n",
       "      <th></th>\n",
       "      <th>C</th>\n",
       "      <th>D</th>\n",
       "    </tr>\n",
       "    <tr>\n",
       "      <th>A</th>\n",
       "      <th></th>\n",
       "      <th></th>\n",
       "    </tr>\n",
       "  </thead>\n",
       "  <tbody>\n",
       "    <tr>\n",
       "      <th>bar</th>\n",
       "      <td>-0.300609</td>\n",
       "      <td>-0.812245</td>\n",
       "    </tr>\n",
       "    <tr>\n",
       "      <th>foo</th>\n",
       "      <td>0.058151</td>\n",
       "      <td>-0.211943</td>\n",
       "    </tr>\n",
       "  </tbody>\n",
       "</table>\n",
       "</div>"
      ],
      "text/plain": [
       "            C         D\n",
       "A                      \n",
       "bar -0.300609 -0.812245\n",
       "foo  0.058151 -0.211943"
      ]
     },
     "execution_count": 106,
     "metadata": {},
     "output_type": "execute_result"
    }
   ],
   "source": [
    "#Group by single variable\n",
    "df.groupby(['A']).mean()"
   ]
  },
  {
   "cell_type": "code",
   "execution_count": 83,
   "metadata": {},
   "outputs": [
    {
     "data": {
      "text/html": [
       "<div>\n",
       "<style>\n",
       "    .dataframe thead tr:only-child th {\n",
       "        text-align: right;\n",
       "    }\n",
       "\n",
       "    .dataframe thead th {\n",
       "        text-align: left;\n",
       "    }\n",
       "\n",
       "    .dataframe tbody tr th {\n",
       "        vertical-align: top;\n",
       "    }\n",
       "</style>\n",
       "<table border=\"1\" class=\"dataframe\">\n",
       "  <thead>\n",
       "    <tr style=\"text-align: right;\">\n",
       "      <th></th>\n",
       "      <th></th>\n",
       "      <th>C</th>\n",
       "      <th>D</th>\n",
       "    </tr>\n",
       "    <tr>\n",
       "      <th>A</th>\n",
       "      <th>B</th>\n",
       "      <th></th>\n",
       "      <th></th>\n",
       "    </tr>\n",
       "  </thead>\n",
       "  <tbody>\n",
       "    <tr>\n",
       "      <th rowspan=\"3\" valign=\"top\">bar</th>\n",
       "      <th>one</th>\n",
       "      <td>0.018039</td>\n",
       "      <td>-1.005966</td>\n",
       "    </tr>\n",
       "    <tr>\n",
       "      <th>three</th>\n",
       "      <td>0.520017</td>\n",
       "      <td>0.496287</td>\n",
       "    </tr>\n",
       "    <tr>\n",
       "      <th>two</th>\n",
       "      <td>-0.208478</td>\n",
       "      <td>-0.638873</td>\n",
       "    </tr>\n",
       "    <tr>\n",
       "      <th rowspan=\"3\" valign=\"top\">foo</th>\n",
       "      <th>one</th>\n",
       "      <td>1.453730</td>\n",
       "      <td>0.489401</td>\n",
       "    </tr>\n",
       "    <tr>\n",
       "      <th>three</th>\n",
       "      <td>-0.036985</td>\n",
       "      <td>-0.711176</td>\n",
       "    </tr>\n",
       "    <tr>\n",
       "      <th>two</th>\n",
       "      <td>0.370171</td>\n",
       "      <td>0.315668</td>\n",
       "    </tr>\n",
       "  </tbody>\n",
       "</table>\n",
       "</div>"
      ],
      "text/plain": [
       "                  C         D\n",
       "A   B                        \n",
       "bar one    0.018039 -1.005966\n",
       "    three  0.520017  0.496287\n",
       "    two   -0.208478 -0.638873\n",
       "foo one    1.453730  0.489401\n",
       "    three -0.036985 -0.711176\n",
       "    two    0.370171  0.315668"
      ]
     },
     "execution_count": 83,
     "metadata": {},
     "output_type": "execute_result"
    }
   ],
   "source": [
    "#Group by multiple variables\n",
    "df.groupby(['A', 'B']).mean()"
   ]
  },
  {
   "cell_type": "markdown",
   "metadata": {
    "focus": false,
    "id": "fa94e6a7-1981-4d98-b43e-3090182e5836",
    "slideshow": {
     "slide_type": "subslide"
    }
   },
   "source": [
    "### Reshaping"
   ]
  },
  {
   "cell_type": "code",
   "execution_count": null,
   "metadata": {
    "collapsed": true,
    "focus": false,
    "id": "df08ec54-d000-4c15-8f93-100cae7a72da",
    "slideshow": {
     "slide_type": "fragment"
    }
   },
   "outputs": [],
   "source": [
    "# You can also stack or unstack levels"
   ]
  },
  {
   "cell_type": "code",
   "execution_count": 91,
   "metadata": {
    "focus": false,
    "id": "ab096955-7280-41aa-9ca8-e1d714d6f12c",
    "slideshow": {
     "slide_type": "fragment"
    }
   },
   "outputs": [
    {
     "data": {
      "text/html": [
       "<div>\n",
       "<style>\n",
       "    .dataframe thead tr:only-child th {\n",
       "        text-align: right;\n",
       "    }\n",
       "\n",
       "    .dataframe thead th {\n",
       "        text-align: left;\n",
       "    }\n",
       "\n",
       "    .dataframe tbody tr th {\n",
       "        vertical-align: top;\n",
       "    }\n",
       "</style>\n",
       "<table border=\"1\" class=\"dataframe\">\n",
       "  <thead>\n",
       "    <tr style=\"text-align: right;\">\n",
       "      <th></th>\n",
       "      <th></th>\n",
       "      <th>C</th>\n",
       "      <th>D</th>\n",
       "    </tr>\n",
       "    <tr>\n",
       "      <th>A</th>\n",
       "      <th>B</th>\n",
       "      <th></th>\n",
       "      <th></th>\n",
       "    </tr>\n",
       "  </thead>\n",
       "  <tbody>\n",
       "    <tr>\n",
       "      <th rowspan=\"3\" valign=\"top\">bar</th>\n",
       "      <th>one</th>\n",
       "      <td>0.018039</td>\n",
       "      <td>-1.005966</td>\n",
       "    </tr>\n",
       "    <tr>\n",
       "      <th>three</th>\n",
       "      <td>0.520017</td>\n",
       "      <td>0.496287</td>\n",
       "    </tr>\n",
       "    <tr>\n",
       "      <th>two</th>\n",
       "      <td>-0.208478</td>\n",
       "      <td>-0.638873</td>\n",
       "    </tr>\n",
       "    <tr>\n",
       "      <th rowspan=\"3\" valign=\"top\">foo</th>\n",
       "      <th>one</th>\n",
       "      <td>1.453730</td>\n",
       "      <td>0.489401</td>\n",
       "    </tr>\n",
       "    <tr>\n",
       "      <th>three</th>\n",
       "      <td>-0.036985</td>\n",
       "      <td>-0.711176</td>\n",
       "    </tr>\n",
       "    <tr>\n",
       "      <th>two</th>\n",
       "      <td>0.370171</td>\n",
       "      <td>0.315668</td>\n",
       "    </tr>\n",
       "  </tbody>\n",
       "</table>\n",
       "</div>"
      ],
      "text/plain": [
       "                  C         D\n",
       "A   B                        \n",
       "bar one    0.018039 -1.005966\n",
       "    three  0.520017  0.496287\n",
       "    two   -0.208478 -0.638873\n",
       "foo one    1.453730  0.489401\n",
       "    three -0.036985 -0.711176\n",
       "    two    0.370171  0.315668"
      ]
     },
     "execution_count": 91,
     "metadata": {},
     "output_type": "execute_result"
    }
   ],
   "source": [
    "a = df.groupby(['A','B']).mean()\n",
    "a"
   ]
  },
  {
   "cell_type": "code",
   "execution_count": 86,
   "metadata": {},
   "outputs": [
    {
     "data": {
      "text/html": [
       "<div>\n",
       "<style>\n",
       "    .dataframe thead tr:only-child th {\n",
       "        text-align: right;\n",
       "    }\n",
       "\n",
       "    .dataframe thead th {\n",
       "        text-align: left;\n",
       "    }\n",
       "\n",
       "    .dataframe tbody tr th {\n",
       "        vertical-align: top;\n",
       "    }\n",
       "</style>\n",
       "<table border=\"1\" class=\"dataframe\">\n",
       "  <thead>\n",
       "    <tr style=\"text-align: right;\">\n",
       "      <th></th>\n",
       "      <th>A</th>\n",
       "      <th>B</th>\n",
       "      <th>C</th>\n",
       "      <th>D</th>\n",
       "    </tr>\n",
       "  </thead>\n",
       "  <tbody>\n",
       "    <tr>\n",
       "      <th>0</th>\n",
       "      <td>foo</td>\n",
       "      <td>one</td>\n",
       "      <td>0.323602</td>\n",
       "      <td>-0.757419</td>\n",
       "    </tr>\n",
       "    <tr>\n",
       "      <th>1</th>\n",
       "      <td>bar</td>\n",
       "      <td>one</td>\n",
       "      <td>0.018039</td>\n",
       "      <td>-1.005966</td>\n",
       "    </tr>\n",
       "    <tr>\n",
       "      <th>2</th>\n",
       "      <td>foo</td>\n",
       "      <td>two</td>\n",
       "      <td>0.446945</td>\n",
       "      <td>-0.183376</td>\n",
       "    </tr>\n",
       "    <tr>\n",
       "      <th>3</th>\n",
       "      <td>bar</td>\n",
       "      <td>three</td>\n",
       "      <td>0.520017</td>\n",
       "      <td>0.496287</td>\n",
       "    </tr>\n",
       "    <tr>\n",
       "      <th>4</th>\n",
       "      <td>foo</td>\n",
       "      <td>two</td>\n",
       "      <td>0.293398</td>\n",
       "      <td>0.814712</td>\n",
       "    </tr>\n",
       "    <tr>\n",
       "      <th>5</th>\n",
       "      <td>bar</td>\n",
       "      <td>two</td>\n",
       "      <td>-0.208478</td>\n",
       "      <td>-0.638873</td>\n",
       "    </tr>\n",
       "    <tr>\n",
       "      <th>6</th>\n",
       "      <td>foo</td>\n",
       "      <td>one</td>\n",
       "      <td>2.583857</td>\n",
       "      <td>1.736220</td>\n",
       "    </tr>\n",
       "    <tr>\n",
       "      <th>7</th>\n",
       "      <td>foo</td>\n",
       "      <td>three</td>\n",
       "      <td>-0.036985</td>\n",
       "      <td>-0.711176</td>\n",
       "    </tr>\n",
       "  </tbody>\n",
       "</table>\n",
       "</div>"
      ],
      "text/plain": [
       "     A      B         C         D\n",
       "0  foo    one  0.323602 -0.757419\n",
       "1  bar    one  0.018039 -1.005966\n",
       "2  foo    two  0.446945 -0.183376\n",
       "3  bar  three  0.520017  0.496287\n",
       "4  foo    two  0.293398  0.814712\n",
       "5  bar    two -0.208478 -0.638873\n",
       "6  foo    one  2.583857  1.736220\n",
       "7  foo  three -0.036985 -0.711176"
      ]
     },
     "execution_count": 86,
     "metadata": {},
     "output_type": "execute_result"
    }
   ],
   "source": [
    "df"
   ]
  },
  {
   "cell_type": "code",
   "execution_count": 97,
   "metadata": {
    "focus": false,
    "id": "19be1110-9007-4818-b7df-7bfe76201f28",
    "slideshow": {
     "slide_type": "fragment"
    }
   },
   "outputs": [
    {
     "data": {
      "text/html": [
       "<div>\n",
       "<style>\n",
       "    .dataframe thead tr:only-child th {\n",
       "        text-align: right;\n",
       "    }\n",
       "\n",
       "    .dataframe thead th {\n",
       "        text-align: left;\n",
       "    }\n",
       "\n",
       "    .dataframe tbody tr th {\n",
       "        vertical-align: top;\n",
       "    }\n",
       "</style>\n",
       "<table border=\"1\" class=\"dataframe\">\n",
       "  <thead>\n",
       "    <tr>\n",
       "      <th></th>\n",
       "      <th colspan=\"3\" halign=\"left\">C</th>\n",
       "      <th colspan=\"3\" halign=\"left\">D</th>\n",
       "    </tr>\n",
       "    <tr>\n",
       "      <th>B</th>\n",
       "      <th>one</th>\n",
       "      <th>three</th>\n",
       "      <th>two</th>\n",
       "      <th>one</th>\n",
       "      <th>three</th>\n",
       "      <th>two</th>\n",
       "    </tr>\n",
       "    <tr>\n",
       "      <th>A</th>\n",
       "      <th></th>\n",
       "      <th></th>\n",
       "      <th></th>\n",
       "      <th></th>\n",
       "      <th></th>\n",
       "      <th></th>\n",
       "    </tr>\n",
       "  </thead>\n",
       "  <tbody>\n",
       "    <tr>\n",
       "      <th>bar</th>\n",
       "      <td>0.018039</td>\n",
       "      <td>0.520017</td>\n",
       "      <td>-0.208478</td>\n",
       "      <td>-1.005966</td>\n",
       "      <td>0.496287</td>\n",
       "      <td>-0.638873</td>\n",
       "    </tr>\n",
       "    <tr>\n",
       "      <th>foo</th>\n",
       "      <td>1.453730</td>\n",
       "      <td>-0.036985</td>\n",
       "      <td>0.370171</td>\n",
       "      <td>0.489401</td>\n",
       "      <td>-0.711176</td>\n",
       "      <td>0.315668</td>\n",
       "    </tr>\n",
       "  </tbody>\n",
       "</table>\n",
       "</div>"
      ],
      "text/plain": [
       "            C                             D                    \n",
       "B         one     three       two       one     three       two\n",
       "A                                                              \n",
       "bar  0.018039  0.520017 -0.208478 -1.005966  0.496287 -0.638873\n",
       "foo  1.453730 -0.036985  0.370171  0.489401 -0.711176  0.315668"
      ]
     },
     "execution_count": 97,
     "metadata": {},
     "output_type": "execute_result"
    }
   ],
   "source": [
    "# Pivot Tables\n",
    "pd.pivot_table(df,values=['C','D'],index=['A'],columns=['B'], aggfunc = 'mean')"
   ]
  },
  {
   "cell_type": "markdown",
   "metadata": {
    "focus": false,
    "id": "67f5eb61-baaf-4cae-973d-808a2bf89829",
    "slideshow": {
     "slide_type": "subslide"
    }
   },
   "source": [
    "### Time Series\n"
   ]
  },
  {
   "cell_type": "code",
   "execution_count": 68,
   "metadata": {
    "collapsed": true,
    "focus": false,
    "id": "09b41ef7-1b6f-4231-a3c3-b083ee337aa4"
   },
   "outputs": [],
   "source": [
    "import pandas as pd\n",
    "import numpy as np"
   ]
  },
  {
   "cell_type": "code",
   "execution_count": 69,
   "metadata": {
    "focus": false,
    "id": "af09a1c8-fd55-44ad-a340-93284b578f52",
    "slideshow": {
     "slide_type": "fragment"
    }
   },
   "outputs": [
    {
     "data": {
      "text/plain": [
       "DatetimeIndex(['2014-01-01 00:00:00', '2014-01-01 00:00:01',\n",
       "               '2014-01-01 00:00:02', '2014-01-01 00:00:03',\n",
       "               '2014-01-01 00:00:04', '2014-01-01 00:00:05',\n",
       "               '2014-01-01 00:00:06', '2014-01-01 00:00:07',\n",
       "               '2014-01-01 00:00:08', '2014-01-01 00:00:09',\n",
       "               '2014-01-01 00:00:10', '2014-01-01 00:00:11',\n",
       "               '2014-01-01 00:00:12', '2014-01-01 00:00:13',\n",
       "               '2014-01-01 00:00:14', '2014-01-01 00:00:15',\n",
       "               '2014-01-01 00:00:16', '2014-01-01 00:00:17',\n",
       "               '2014-01-01 00:00:18', '2014-01-01 00:00:19',\n",
       "               '2014-01-01 00:00:20', '2014-01-01 00:00:21',\n",
       "               '2014-01-01 00:00:22', '2014-01-01 00:00:23',\n",
       "               '2014-01-01 00:00:24', '2014-01-01 00:00:25',\n",
       "               '2014-01-01 00:00:26', '2014-01-01 00:00:27',\n",
       "               '2014-01-01 00:00:28', '2014-01-01 00:00:29',\n",
       "               '2014-01-01 00:00:30', '2014-01-01 00:00:31',\n",
       "               '2014-01-01 00:00:32', '2014-01-01 00:00:33',\n",
       "               '2014-01-01 00:00:34', '2014-01-01 00:00:35',\n",
       "               '2014-01-01 00:00:36', '2014-01-01 00:00:37',\n",
       "               '2014-01-01 00:00:38', '2014-01-01 00:00:39',\n",
       "               '2014-01-01 00:00:40', '2014-01-01 00:00:41',\n",
       "               '2014-01-01 00:00:42', '2014-01-01 00:00:43',\n",
       "               '2014-01-01 00:00:44', '2014-01-01 00:00:45',\n",
       "               '2014-01-01 00:00:46', '2014-01-01 00:00:47',\n",
       "               '2014-01-01 00:00:48', '2014-01-01 00:00:49',\n",
       "               '2014-01-01 00:00:50', '2014-01-01 00:00:51',\n",
       "               '2014-01-01 00:00:52', '2014-01-01 00:00:53',\n",
       "               '2014-01-01 00:00:54', '2014-01-01 00:00:55',\n",
       "               '2014-01-01 00:00:56', '2014-01-01 00:00:57',\n",
       "               '2014-01-01 00:00:58', '2014-01-01 00:00:59'],\n",
       "              dtype='datetime64[ns]', freq='S')"
      ]
     },
     "execution_count": 69,
     "metadata": {},
     "output_type": "execute_result"
    }
   ],
   "source": [
    "# 60 Seconds starting on January 1st\n",
    "rng = pd.date_range('1/1/2014', periods = 60, freq = 'S')\n",
    "rng"
   ]
  },
  {
   "cell_type": "code",
   "execution_count": 70,
   "metadata": {
    "focus": false,
    "id": "948b5dba-e17c-4e0a-9bcb-e5cfd5dbd151",
    "slideshow": {
     "slide_type": "fragment"
    }
   },
   "outputs": [],
   "source": [
    "# Give each second a random value\n",
    "ts = pd.Series(np.random.randint(0, 500, len(rng)), index=rng)"
   ]
  },
  {
   "cell_type": "code",
   "execution_count": 71,
   "metadata": {
    "focus": false,
    "id": "ee2c76e8-2e6b-4083-97a2-ee65d8a4adde",
    "slideshow": {
     "slide_type": "fragment"
    }
   },
   "outputs": [
    {
     "data": {
      "text/plain": [
       "2014-01-01 00:00:00    195\n",
       "2014-01-01 00:00:01    264\n",
       "2014-01-01 00:00:02    340\n",
       "2014-01-01 00:00:03     48\n",
       "2014-01-01 00:00:04     95\n",
       "2014-01-01 00:00:05    215\n",
       "2014-01-01 00:00:06    172\n",
       "2014-01-01 00:00:07    240\n",
       "2014-01-01 00:00:08    416\n",
       "2014-01-01 00:00:09    138\n",
       "2014-01-01 00:00:10    276\n",
       "2014-01-01 00:00:11    372\n",
       "2014-01-01 00:00:12    150\n",
       "2014-01-01 00:00:13    471\n",
       "2014-01-01 00:00:14    107\n",
       "2014-01-01 00:00:15    134\n",
       "2014-01-01 00:00:16    448\n",
       "2014-01-01 00:00:17    284\n",
       "2014-01-01 00:00:18    144\n",
       "2014-01-01 00:00:19    101\n",
       "2014-01-01 00:00:20    464\n",
       "2014-01-01 00:00:21    271\n",
       "2014-01-01 00:00:22    247\n",
       "2014-01-01 00:00:23    288\n",
       "2014-01-01 00:00:24    106\n",
       "2014-01-01 00:00:25     63\n",
       "2014-01-01 00:00:26    351\n",
       "2014-01-01 00:00:27    269\n",
       "2014-01-01 00:00:28    425\n",
       "2014-01-01 00:00:29     62\n",
       "2014-01-01 00:00:30    229\n",
       "2014-01-01 00:00:31    110\n",
       "2014-01-01 00:00:32    427\n",
       "2014-01-01 00:00:33    373\n",
       "2014-01-01 00:00:34    275\n",
       "2014-01-01 00:00:35    110\n",
       "2014-01-01 00:00:36    453\n",
       "2014-01-01 00:00:37    434\n",
       "2014-01-01 00:00:38     87\n",
       "2014-01-01 00:00:39    463\n",
       "2014-01-01 00:00:40    197\n",
       "2014-01-01 00:00:41     45\n",
       "2014-01-01 00:00:42    325\n",
       "2014-01-01 00:00:43    286\n",
       "2014-01-01 00:00:44    245\n",
       "2014-01-01 00:00:45    146\n",
       "2014-01-01 00:00:46    218\n",
       "2014-01-01 00:00:47    105\n",
       "2014-01-01 00:00:48    415\n",
       "2014-01-01 00:00:49     93\n",
       "2014-01-01 00:00:50    470\n",
       "2014-01-01 00:00:51    247\n",
       "2014-01-01 00:00:52    259\n",
       "2014-01-01 00:00:53    332\n",
       "2014-01-01 00:00:54    147\n",
       "2014-01-01 00:00:55    463\n",
       "2014-01-01 00:00:56    273\n",
       "2014-01-01 00:00:57     58\n",
       "2014-01-01 00:00:58    119\n",
       "2014-01-01 00:00:59    361\n",
       "Freq: S, dtype: int64"
      ]
     },
     "execution_count": 71,
     "metadata": {},
     "output_type": "execute_result"
    }
   ],
   "source": [
    "ts"
   ]
  },
  {
   "cell_type": "code",
   "execution_count": 72,
   "metadata": {
    "focus": false,
    "id": "a5d4c14a-379a-4e9a-a3cc-e6cd5476b781",
    "slideshow": {
     "slide_type": "subslide"
    }
   },
   "outputs": [
    {
     "data": {
      "text/plain": [
       "2014-01-01    248.683333\n",
       "Freq: T, dtype: float64"
      ]
     },
     "execution_count": 72,
     "metadata": {},
     "output_type": "execute_result"
    }
   ],
   "source": [
    "# Built in resampling\n",
    "ts.resample('1Min').mean() # Resample secondly to 1Minutely"
   ]
  },
  {
   "cell_type": "markdown",
   "metadata": {
    "focus": false,
    "id": "b281a484-9cf5-41da-b898-ac5ea012053a",
    "slideshow": {
     "slide_type": "slide"
    }
   },
   "source": [
    "### Plotting\n"
   ]
  },
  {
   "cell_type": "code",
   "execution_count": 75,
   "metadata": {
    "focus": false,
    "id": "e0d64120-b593-447e-9088-731b31629e25",
    "slideshow": {
     "slide_type": "subslide"
    }
   },
   "outputs": [
    {
     "data": {
      "text/plain": [
       "<matplotlib.axes._subplots.AxesSubplot at 0x7fba5f82ad90>"
      ]
     },
     "execution_count": 75,
     "metadata": {},
     "output_type": "execute_result"
    },
    {
     "data": {
      "image/png": "[encoded data removed]",
      "text/plain": [
       "<matplotlib.figure.Figure at 0x7fba6532c5d0>"
      ]
     },
     "metadata": {},
     "output_type": "display_data"
    }
   ],
   "source": [
    "ts.plot(linestyle = '--')"
   ]
  },
  {
   "cell_type": "code",
   "execution_count": 101,
   "metadata": {
    "collapsed": true,
    "focus": false,
    "id": "05fb3a7f-f96d-4d2c-8944-bf02768b7eb2",
    "slideshow": {
     "slide_type": "subslide"
    }
   },
   "outputs": [],
   "source": [
    "def randwalk(startdate, points):\n",
    "    ts = pd.Series(np.random.randn(points), index = pd.date_range(startdate, periods = points))\n",
    "    ts = ts.cumsum()\n",
    "    ts.plot()\n",
    "    return(ts)"
   ]
  },
  {
   "cell_type": "code",
   "execution_count": 102,
   "metadata": {
    "focus": false,
    "id": "0ad89701-d9a8-41d2-b93b-f0e28a76498c",
    "slideshow": {
     "slide_type": "fragment"
    }
   },
   "outputs": [
    {
     "data": {
      "image/png": "[encoded data removed]",
      "text/plain": [
       "<matplotlib.figure.Figure at 0x7fda0c52d050>"
      ]
     },
     "metadata": {},
     "output_type": "display_data"
    }
   ],
   "source": [
    "# Using pandas to make a simple random walker by repeatedly running:\n",
    "a = randwalk('1/1/2012', 360)"
   ]
  },
  {
   "cell_type": "code",
   "execution_count": 103,
   "metadata": {
    "collapsed": true,
    "focus": false,
    "id": "d7c096a1-789c-494e-abf1-c253ad93729c",
    "slideshow": {
     "slide_type": "subslide"
    }
   },
   "outputs": [],
   "source": [
    "# Pandas plot function will print with labels as default"
   ]
  },
  {
   "cell_type": "code",
   "execution_count": 104,
   "metadata": {
    "focus": false,
    "id": "f2951491-24b2-4552-bd06-304e1b12704d",
    "slideshow": {
     "slide_type": "fragment"
    }
   },
   "outputs": [
    {
     "data": {
      "text/plain": [
       "<matplotlib.legend.Legend at 0x7fda0c4cbf50>"
      ]
     },
     "execution_count": 104,
     "metadata": {},
     "output_type": "execute_result"
    },
    {
     "data": {
      "text/plain": [
       "<matplotlib.figure.Figure at 0x7fda0c5983d0>"
      ]
     },
     "metadata": {},
     "output_type": "display_data"
    },
    {
     "data": {
      "image/png": "[encoded data removed]",
      "text/plain": [
       "<matplotlib.figure.Figure at 0x7fda0c4cb650>"
      ]
     },
     "metadata": {},
     "output_type": "display_data"
    }
   ],
   "source": [
    "df = pd.DataFrame(np.random.randn(60, 4), index = ts.index,columns=['A', 'B', 'C', 'D'])\n",
    "df2 = df.apply(np.cumsum)\n",
    "plt.figure()\n",
    "df2.plot()\n",
    "plt.legend(loc='best')"
   ]
  },
  {
   "cell_type": "markdown",
   "metadata": {
    "focus": false,
    "id": "2f982866-332b-4e39-a784-092157257f8f",
    "slideshow": {
     "slide_type": "subslide"
    }
   },
   "source": [
    "### I/O\n",
    "I/O is straightforward with, for example, pd.read_csv or df.to_csv"
   ]
  },
  {
   "cell_type": "code",
   "execution_count": null,
   "metadata": {
    "collapsed": true
   },
   "outputs": [],
   "source": [
    "df = pd.read_csv('path/to/file.csv')"
   ]
  },
  {
   "cell_type": "code",
   "execution_count": 105,
   "metadata": {},
   "outputs": [
    {
     "data": {
      "text/html": [
       "<div>\n",
       "<style>\n",
       "    .dataframe thead tr:only-child th {\n",
       "        text-align: right;\n",
       "    }\n",
       "\n",
       "    .dataframe thead th {\n",
       "        text-align: left;\n",
       "    }\n",
       "\n",
       "    .dataframe tbody tr th {\n",
       "        vertical-align: top;\n",
       "    }\n",
       "</style>\n",
       "<table border=\"1\" class=\"dataframe\">\n",
       "  <thead>\n",
       "    <tr style=\"text-align: right;\">\n",
       "      <th></th>\n",
       "      <th>Ozone</th>\n",
       "      <th>Solar.R</th>\n",
       "      <th>Wind</th>\n",
       "      <th>Temp</th>\n",
       "      <th>Month</th>\n",
       "      <th>Day</th>\n",
       "    </tr>\n",
       "  </thead>\n",
       "  <tbody>\n",
       "    <tr>\n",
       "      <th>0</th>\n",
       "      <td>41.0</td>\n",
       "      <td>190.0</td>\n",
       "      <td>7.4</td>\n",
       "      <td>67</td>\n",
       "      <td>5</td>\n",
       "      <td>1</td>\n",
       "    </tr>\n",
       "    <tr>\n",
       "      <th>1</th>\n",
       "      <td>36.0</td>\n",
       "      <td>118.0</td>\n",
       "      <td>8.0</td>\n",
       "      <td>72</td>\n",
       "      <td>5</td>\n",
       "      <td>2</td>\n",
       "    </tr>\n",
       "    <tr>\n",
       "      <th>2</th>\n",
       "      <td>12.0</td>\n",
       "      <td>149.0</td>\n",
       "      <td>12.6</td>\n",
       "      <td>74</td>\n",
       "      <td>5</td>\n",
       "      <td>3</td>\n",
       "    </tr>\n",
       "    <tr>\n",
       "      <th>3</th>\n",
       "      <td>18.0</td>\n",
       "      <td>313.0</td>\n",
       "      <td>11.5</td>\n",
       "      <td>62</td>\n",
       "      <td>5</td>\n",
       "      <td>4</td>\n",
       "    </tr>\n",
       "    <tr>\n",
       "      <th>4</th>\n",
       "      <td>NaN</td>\n",
       "      <td>NaN</td>\n",
       "      <td>14.3</td>\n",
       "      <td>56</td>\n",
       "      <td>5</td>\n",
       "      <td>5</td>\n",
       "    </tr>\n",
       "  </tbody>\n",
       "</table>\n",
       "</div>"
      ],
      "text/plain": [
       "   Ozone  Solar.R  Wind  Temp  Month  Day\n",
       "0   41.0    190.0   7.4    67      5    1\n",
       "1   36.0    118.0   8.0    72      5    2\n",
       "2   12.0    149.0  12.6    74      5    3\n",
       "3   18.0    313.0  11.5    62      5    4\n",
       "4    NaN      NaN  14.3    56      5    5"
      ]
     },
     "execution_count": 105,
     "metadata": {},
     "output_type": "execute_result"
    }
   ],
   "source": [
    "# Remember - pandas can also read data from a URL that links directly with a file\n",
    "df = pd.read_csv('https://raw.githubusercontent.com/petergoodin/general_stuff/master/ozone.csv')\n",
    "df.head()"
   ]
  },
  {
   "cell_type": "code",
   "execution_count": 108,
   "metadata": {
    "collapsed": true
   },
   "outputs": [],
   "source": [
    "df.to_csv(os.path.join(os.getcwd(), 'example_output.csv'), index = False)"
   ]
  },
  {
   "cell_type": "code",
   "execution_count": 109,
   "metadata": {},
   "outputs": [
    {
     "data": {
      "text/html": [
       "<div>\n",
       "<style>\n",
       "    .dataframe thead tr:only-child th {\n",
       "        text-align: right;\n",
       "    }\n",
       "\n",
       "    .dataframe thead th {\n",
       "        text-align: left;\n",
       "    }\n",
       "\n",
       "    .dataframe tbody tr th {\n",
       "        vertical-align: top;\n",
       "    }\n",
       "</style>\n",
       "<table border=\"1\" class=\"dataframe\">\n",
       "  <thead>\n",
       "    <tr style=\"text-align: right;\">\n",
       "      <th></th>\n",
       "      <th>Ozone</th>\n",
       "      <th>Solar.R</th>\n",
       "      <th>Wind</th>\n",
       "      <th>Temp</th>\n",
       "      <th>Month</th>\n",
       "      <th>Day</th>\n",
       "    </tr>\n",
       "  </thead>\n",
       "  <tbody>\n",
       "    <tr>\n",
       "      <th>0</th>\n",
       "      <td>41.0</td>\n",
       "      <td>190.0</td>\n",
       "      <td>7.4</td>\n",
       "      <td>67</td>\n",
       "      <td>5</td>\n",
       "      <td>1</td>\n",
       "    </tr>\n",
       "    <tr>\n",
       "      <th>1</th>\n",
       "      <td>36.0</td>\n",
       "      <td>118.0</td>\n",
       "      <td>8.0</td>\n",
       "      <td>72</td>\n",
       "      <td>5</td>\n",
       "      <td>2</td>\n",
       "    </tr>\n",
       "    <tr>\n",
       "      <th>2</th>\n",
       "      <td>12.0</td>\n",
       "      <td>149.0</td>\n",
       "      <td>12.6</td>\n",
       "      <td>74</td>\n",
       "      <td>5</td>\n",
       "      <td>3</td>\n",
       "    </tr>\n",
       "    <tr>\n",
       "      <th>3</th>\n",
       "      <td>18.0</td>\n",
       "      <td>313.0</td>\n",
       "      <td>11.5</td>\n",
       "      <td>62</td>\n",
       "      <td>5</td>\n",
       "      <td>4</td>\n",
       "    </tr>\n",
       "    <tr>\n",
       "      <th>4</th>\n",
       "      <td>NaN</td>\n",
       "      <td>NaN</td>\n",
       "      <td>14.3</td>\n",
       "      <td>56</td>\n",
       "      <td>5</td>\n",
       "      <td>5</td>\n",
       "    </tr>\n",
       "  </tbody>\n",
       "</table>\n",
       "</div>"
      ],
      "text/plain": [
       "   Ozone  Solar.R  Wind  Temp  Month  Day\n",
       "0   41.0    190.0   7.4    67      5    1\n",
       "1   36.0    118.0   8.0    72      5    2\n",
       "2   12.0    149.0  12.6    74      5    3\n",
       "3   18.0    313.0  11.5    62      5    4\n",
       "4    NaN      NaN  14.3    56      5    5"
      ]
     },
     "execution_count": 109,
     "metadata": {},
     "output_type": "execute_result"
    }
   ],
   "source": [
    "pd.read_csv(os.path.join(os.getcwd(), 'example_output.csv')).head()"
   ]
  },
  {
   "cell_type": "markdown",
   "metadata": {
    "focus": true,
    "id": "a51cdd68-c291-46ae-9bf5-ed4f0819f161",
    "slideshow": {
     "slide_type": "slide"
    }
   },
   "source": [
    "# Next Steps\n",
    "\n",
    "Your turn to get familair with pandas!\n",
    "Open the jupyter notebook located at:\n",
    "\n",
    "./lesson-02/starter-code/starter-code-2.ipynb"
   ]
  },
  {
   "cell_type": "markdown",
   "metadata": {},
   "source": [
    "**Recommended Resources**\n",
    "\n",
    "Name | Description\n",
    "--- | ---\n",
    "[Official Pandas Tutorials](http://pandas.pydata.org/pandas-docs/stable/10min.html) | Wes & Company's selection of tutorials and lectures\n",
    "[Julia Evans Pandas Cookbook](https://github.com/jvns/pandas-cookbook) | Great resource with examples from weather, bikes and 311 calls\n",
    "[Learn Pandas Tutorials](https://bitbucket.org/hrojas/learn-pandas) | A great series of Pandas tutorials from Dave Rojas\n",
    "[Research Computing Python Data PYNBs](https://github.com/ResearchComputing/Meetup-Fall-2013/tree/master/python) | A super awesome set of python notebooks from a meetup-based course exclusively devoted to pandas"
   ]
  }
 ],
 "metadata": {
  "kernelspec": {
   "display_name": "Python 2",
   "language": "python",
   "name": "python2"
  },
  "language_info": {
   "codemirror_mode": {
    "name": "ipython",
    "version": 2
   },
   "file_extension": ".py",
   "mimetype": "text/x-python",
   "name": "python",
   "nbconvert_exporter": "python",
   "pygments_lexer": "ipython2",
   "version": "2.7.13"
  }
 },
 "nbformat": 4,
 "nbformat_minor": 2
}
