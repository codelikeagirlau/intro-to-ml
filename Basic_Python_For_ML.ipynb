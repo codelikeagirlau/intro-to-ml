{
  "nbformat": 4,
  "nbformat_minor": 0,
  "metadata": {
    "colab": {
      "name": "Copy of Code_Like_A_Girl_Python_Intro.ipynb",
      "version": "0.3.2",
      "provenance": [],
      "collapsed_sections": []
    },
    "kernelspec": {
      "display_name": "Python 3",
      "language": "python",
      "name": "python3"
    }
  },
  "cells": [
    {
      "metadata": {
        "id": "LnceX05hUhfC",
        "colab_type": "text"
      },
      "cell_type": "markdown",
      "source": [
        "# Code Like a Girl - Python for Machine Learning\n"
      ]
    },
    {
      "metadata": {
        "id": "YmPnV1VrUhfD",
        "colab_type": "text"
      },
      "cell_type": "markdown",
      "source": [
        "## What we'll cover\n",
        "* Values, Variables and Types\n",
        "* Operators\n",
        "\n",
        "### Hot tips for getting started using jupyter notebook:\n",
        "* Use shift + enter on your keyboard to execute a cell\n",
        "* There are lots of command shortcuts which can make your life easier, you can read all about them in the documentation [here](http://jupyter-notebook.readthedocs.io/en/stable/examples/Notebook/Notebook%20Basics.html)\n",
        "* If you get stuck, use your mouse to click anywhere outside the cell area - it's all good!\n",
        "\n",
        "## Let's get stuck in! Quick, type your first line of code:\n",
        "\n",
        "```print('Hello, World!') ```"
      ]
    },
    {
      "metadata": {
        "id": "BbpNULgKUhfE",
        "colab_type": "code",
        "colab": {},
        "outputId": "8e99f7ec-8e80-4597-b244-1aef83d35126"
      },
      "cell_type": "code",
      "source": [
        "print('Hello, World!')"
      ],
      "execution_count": 0,
      "outputs": [
        {
          "output_type": "stream",
          "text": [
            "Hello, World!\n"
          ],
          "name": "stdout"
        }
      ]
    },
    {
      "metadata": {
        "id": "AebATRinUhfK",
        "colab_type": "text"
      },
      "cell_type": "markdown",
      "source": [
        "## Values, Variables and Types\n",
        "\n",
        "Values in programming represent the 'things' or data we are dealing with. \n",
        "\n",
        "The word *variable* in programming describes a place to store information. Another way to think about variables is as a *name* or a *label* for the value. \n",
        "\n",
        "Values have *types*. The datatype of a value will determine what you can and can't do with it. \n",
        "\n",
        "All the data you will work with in Python has a **type**. You can check the datatype using the `type()` function. \n",
        "\n",
        "Here are some importat datatypes for you to know:\n",
        "* **String** - Text. Think of it as a string of characters! You can create strings by putting quote marks around it. \n",
        "* **Integer** - A whole number, e.g. 4 or 6\n",
        "* **Float** - A number with a decimal, e.g. 6.7, 3.14 \n",
        "\n",
        "In Python, you define a variable with the '=' operator. Run this code as an example:"
      ]
    },
    {
      "metadata": {
        "id": "JZxrCHFIUhfL",
        "colab_type": "code",
        "colab": {},
        "outputId": "546a6169-907c-4ce2-cdf5-88d01d2ebddf"
      },
      "cell_type": "code",
      "source": [
        "name = 'Jessica Jones'\n",
        "print(name)"
      ],
      "execution_count": 0,
      "outputs": [
        {
          "output_type": "stream",
          "text": [
            "Jessica Jones\n"
          ],
          "name": "stdout"
        }
      ]
    },
    {
      "metadata": {
        "id": "jzzcGgs3UhfO",
        "colab_type": "text"
      },
      "cell_type": "markdown",
      "source": [
        "You can check the datatype of a variable by using the `type()` fuction:"
      ]
    },
    {
      "metadata": {
        "id": "dX5L6fR7UhfP",
        "colab_type": "code",
        "colab": {},
        "outputId": "21bd796c-a9f0-4250-ad47-55e57faff854"
      },
      "cell_type": "code",
      "source": [
        "type(name)"
      ],
      "execution_count": 0,
      "outputs": [
        {
          "output_type": "execute_result",
          "data": {
            "text/plain": [
              "str"
            ]
          },
          "metadata": {
            "tags": []
          },
          "execution_count": 3
        }
      ]
    },
    {
      "metadata": {
        "id": "Z55dEhd7UhfS",
        "colab_type": "text"
      },
      "cell_type": "markdown",
      "source": [
        "### Your turn! \n",
        "### Exercise 1\n",
        "   - Define a variable called `name` with your name as a string\n",
        "   - Define another variable `age` with your age as an integer\n",
        "   - Try displaying them using the `print()` function"
      ]
    },
    {
      "metadata": {
        "id": "r6Vk0GrcUhfU",
        "colab_type": "code",
        "colab": {}
      },
      "cell_type": "code",
      "source": [
        "# Exercise 1\n",
        "name = \"Alicia\"\n",
        "age = 55\n",
        "print(name)\n",
        "print(age)\n",
        "\n",
        "# Bonus: you can print both of these together with the following code:\n",
        "# print('My name is ', my_name, ' and my age is ', age)"
      ],
      "execution_count": 0,
      "outputs": []
    },
    {
      "metadata": {
        "id": "MkPI4vQmbdC6",
        "colab_type": "text"
      },
      "cell_type": "markdown",
      "source": [
        " - Display the datatype of the name and age variables\n",
        "\n"
      ]
    },
    {
      "metadata": {
        "id": "Luv5k4shUhfa",
        "colab_type": "code",
        "colab": {
          "base_uri": "https://localhost:8080/",
          "height": 50
        },
        "outputId": "7be79a01-cecf-4511-a52b-03b3bed5c3e3"
      },
      "cell_type": "code",
      "source": [
        "print(type(name))\n",
        "print(type(age))"
      ],
      "execution_count": 9,
      "outputs": [
        {
          "output_type": "stream",
          "text": [
            "<class 'str'>\n",
            "<class 'int'>\n"
          ],
          "name": "stdout"
        }
      ]
    },
    {
      "metadata": {
        "id": "h1GeR9NEUhfs",
        "colab_type": "text"
      },
      "cell_type": "markdown",
      "source": [
        "## Operators \n",
        "\n",
        "You can use Python to do basic mathematical operations\n",
        "\n",
        "* Addition: `+` \n",
        "* Subtraction: `-`\n",
        "* Multiplication: `*`\n",
        "* Division: `/`\n",
        "\n",
        "Have a go at some basic maths using the above operators!"
      ]
    },
    {
      "metadata": {
        "id": "CtExBiKAZXLK",
        "colab_type": "text"
      },
      "cell_type": "markdown",
      "source": [
        "### Exercise 2\n",
        "\n",
        " - Try adding 3 and 4 and putting the result in a variable\n",
        " - Calculate 7 divided by 9\n",
        " - Calculate 3 times (4 divided by 17)\n",
        " Display your results on the screen"
      ]
    },
    {
      "metadata": {
        "id": "4NTsBtiDZoTX",
        "colab_type": "code",
        "colab": {
          "base_uri": "https://localhost:8080/",
          "height": 66
        },
        "outputId": "2395df7c-e728-4bb8-9efc-a37226b7b2ba"
      },
      "cell_type": "code",
      "source": [
        "# TO DO: Hint: try the following:\n",
        "#        result = .... [Your code here]\n",
        "#        print(result)\n",
        "\n",
        "answer = 3 + 4\n",
        "print(answer)\n",
        "\n",
        "print(7/9)\n",
        "print(3*(4/17))"
      ],
      "execution_count": 14,
      "outputs": [
        {
          "output_type": "stream",
          "text": [
            "7\n",
            "0.7777777777777778\n",
            "0.7058823529411764\n"
          ],
          "name": "stdout"
        }
      ]
    },
    {
      "metadata": {
        "id": "G7SPDY7kgSxf",
        "colab_type": "text"
      },
      "cell_type": "markdown",
      "source": [
        "## Numpy library\n",
        "\n",
        "You can use extra functionality that is not part of the basic python language by importing libraries of functions. You can import libraries into python using the syntax\n",
        "\n",
        "`import [name of library]`\n",
        "\n",
        "There is a particularly useful library called Numpy that allows us to work with a datatype called an **array**\n",
        "\n",
        "### Arrays\n",
        "\n",
        "An array is like a list of elements.\n",
        "You can define an array by using a numpy function called `numpy.array`.\n",
        "\n",
        "Try the following code\n",
        "\n",
        "`import numpy as np`\n",
        "\n",
        "`np.array([1,2,3])`"
      ]
    },
    {
      "metadata": {
        "id": "Q_zwfLW-Uhfe",
        "colab_type": "code",
        "colab": {
          "base_uri": "https://localhost:8080/",
          "height": 33
        },
        "outputId": "015f8500-9e17-4dd5-dff1-2e041e8e12e9"
      },
      "cell_type": "code",
      "source": [
        "import numpy as np\n",
        "np.array([1,2,3])"
      ],
      "execution_count": 2,
      "outputs": [
        {
          "output_type": "execute_result",
          "data": {
            "text/plain": [
              "array([1, 2, 3])"
            ]
          },
          "metadata": {
            "tags": []
          },
          "execution_count": 2
        }
      ]
    },
    {
      "metadata": {
        "id": "uS7nQrCEUhfh",
        "colab_type": "code",
        "colab": {
          "base_uri": "https://localhost:8080/",
          "height": 33
        },
        "outputId": "c3a2cd5a-bc24-4a98-a80f-10653cebeea9"
      },
      "cell_type": "code",
      "source": [
        "cities = np.array(['sf','mel'])\n",
        "print(cities)"
      ],
      "execution_count": 3,
      "outputs": [
        {
          "output_type": "stream",
          "text": [
            "['sf' 'mel']\n"
          ],
          "name": "stdout"
        }
      ]
    },
    {
      "metadata": {
        "id": "vb7fxGJXJ5UV",
        "colab_type": "text"
      },
      "cell_type": "markdown",
      "source": [
        "### Exercise 3\n",
        "\n",
        " - Try creating an array with any 4 string values in it."
      ]
    },
    {
      "metadata": {
        "id": "qwVjHVleKEnM",
        "colab_type": "code",
        "colab": {}
      },
      "cell_type": "code",
      "source": [
        "# Create an array with string values in it"
      ],
      "execution_count": 0,
      "outputs": []
    },
    {
      "metadata": {
        "id": "64vrBt_CUhfj",
        "colab_type": "text"
      },
      "cell_type": "markdown",
      "source": [
        "**More Types?!** \n",
        "There are more types than what we've covered here! Check out the [Python Documentation](https://docs.python.org/2/library/datatypes.html) for more"
      ]
    },
    {
      "metadata": {
        "id": "kG0-epfIUhiW",
        "colab_type": "text"
      },
      "cell_type": "markdown",
      "source": [
        "## Want more? Some useful resouces! \n",
        "\n",
        "\n",
        "[PyLadies Meetup](http://melbourne.pyladies.com/) - Monthly talks about Python in the city \n",
        "\n",
        "[Improve your Python skills](https://dbader.org/python-basics) - Nice blog posts \n",
        "\n",
        "[Weekly Python Chat](http://www.weeklypython.chat/) - Interesting weekly videos of all things Python (it goes back a fair bit so there are loads of things in there) \n",
        "\n",
        "[Talk Python To Me](https://talkpython.fm/) - A podcast about topics in Python\n",
        "\n",
        "\n",
        "[Code Academy](https://www.codecademy.com/) - Free courses in loads of languages\n",
        "\n",
        "[CS50 - Introduction to computer science](https://www.edx.org/course/cs50s-introduction-computer-science-harvardx-cs50x) - If you're super keen!\n",
        "\n",
        "\n"
      ]
    },
    {
      "metadata": {
        "id": "fHsCZUobJzlT",
        "colab_type": "text"
      },
      "cell_type": "markdown",
      "source": [
        ""
      ]
    }
  ]
}